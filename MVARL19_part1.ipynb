{
 "cells": [
  {
   "cell_type": "markdown",
   "metadata": {
    "colab_type": "text",
    "id": "4P3WM-hVOPfo"
   },
   "source": [
    "# Reinforcement Learning in Finite MDPs"
   ]
  },
  {
   "cell_type": "code",
   "execution_count": 1,
   "metadata": {
    "colab": {},
    "colab_type": "code",
    "id": "E9_DLZvWQzhb"
   },
   "outputs": [],
   "source": [
    "!git clone https://github.com/rlgammazero/mvarl_hands_on.git > /dev/null 2>&1"
   ]
  },
  {
   "cell_type": "markdown",
   "metadata": {
    "colab_type": "text",
    "id": "wnzUJeyJOPfq"
   },
   "source": [
    "## MDPs"
   ]
  },
  {
   "cell_type": "code",
   "execution_count": 1,
   "metadata": {
    "colab": {},
    "colab_type": "code",
    "id": "RcWJSw_uOPfr"
   },
   "outputs": [],
   "source": [
    "import sys\n",
    "sys.path.insert(0, './mvarl_hands_on/utils')\n",
    "import numpy as np\n",
    "from scipy.special import softmax # for SARSA\n",
    "import matplotlib.pyplot as plt\n",
    "import json\n",
    "import math\n",
    "from cliffwalk import CliffWalk\n",
    "from test_env import ToyEnv1"
   ]
  },
  {
   "cell_type": "markdown",
   "metadata": {
    "colab_type": "text",
    "id": "ym-B_4HaOPfu"
   },
   "source": [
    "Setting up the environment"
   ]
  },
  {
   "cell_type": "code",
   "execution_count": 2,
   "metadata": {
    "colab": {},
    "colab_type": "code",
    "id": "rVR5qYoLOPfv",
    "scrolled": true
   },
   "outputs": [
    {
     "name": "stdout",
     "output_type": "stream",
     "text": [
      "Set of states: range(0, 48)\n",
      "Set of actions: [0, 1, 2, 3]\n",
      "Number of states:  48\n",
      "Number of actions:  4\n",
      "P has shape:  (48, 4, 48)\n",
      "discount factor:  0.99\n",
      "\n",
      "initial state:  36\n",
      "reward at (s=1, a=3,s'=2):  0.6\n",
      "\n",
      "random policy =  [3 1 2 2 1 2 1 3 2 1 0 2 2 3 2 1 2 3 3 0 0 2 1 1 1 0 1 2 3 1 2 0 2 0 2 1 1\n",
      " 1 1 0 0 3 1 1 0 3 2 2]\n",
      "(s, a, s', r):\n",
      "36 1 36 0.6\n",
      "36 1 36 0.6\n",
      "36 1 36 0.6\n",
      "36 1 36 0.6\n",
      "\n",
      "(48, 4, 48)\n"
     ]
    }
   ],
   "source": [
    "env = CliffWalk(proba_succ=0.98)\n",
    "\n",
    "####################################################################################\n",
    "# You probably want to test smaller enviroments before\n",
    "# env = ToyEnv1(gamma=0.95)\n",
    "####################################################################################\n",
    "\n",
    "# Useful attributes\n",
    "print(\"Set of states:\", env.states)\n",
    "print(\"Set of actions:\", env.actions)\n",
    "print(\"Number of states: \", env.Ns)\n",
    "print(\"Number of actions: \", env.Na)\n",
    "print(\"P has shape: \", env.P.shape)  # P[s, a, s'] = env.P[s, a, s']\n",
    "print(\"discount factor: \", env.gamma)\n",
    "print(\"\")\n",
    "\n",
    "# Usefult methods\n",
    "state = env.reset() # get initial state\n",
    "print(\"initial state: \", state)\n",
    "print(\"reward at (s=1, a=3,s'=2): \", env.reward_func(1,3,2))\n",
    "print(\"\")\n",
    "\n",
    "# A random policy\n",
    "policy = np.random.randint(env.Na, size = (env.Ns,))\n",
    "print(\"random policy = \", policy)\n",
    "\n",
    "# Interacting with the environment\n",
    "print(\"(s, a, s', r):\")\n",
    "for time in range(4):\n",
    "    action = policy[state]\n",
    "    next_state, reward, done, info = env.step(action)\n",
    "    print(state, action, next_state, reward)\n",
    "    if done:\n",
    "        break\n",
    "    state = next_state\n",
    "print(\"\")\n",
    "print(env.R.shape)"
   ]
  },
  {
   "cell_type": "markdown",
   "metadata": {
    "colab_type": "text",
    "id": "AUlNvT3cOPfx"
   },
   "source": [
    "## Question 1: Value iteration\n",
    "1. Write a function applying the optimal Bellman operator on a provided Q function: $Q_1 = LQ_0, \\; Q_0\\in \\mathbb{R}^{S\\times A}$\n",
    "2. Write a function implementing Value Iteration (VI) with $\\infty$-norm stopping condition (reuse function implemented in 1)\n",
    "3. Evaluate the convergence of your estimate, i.e., plot the value $\\|Q_n - Q^\\star\\|_{\\infty} = \\max_{s,a} |Q_n(s,a) - Q^\\star(s,a)|$"
   ]
  },
  {
   "cell_type": "code",
   "execution_count": 3,
   "metadata": {
    "colab": {},
    "colab_type": "code",
    "id": "R8TLRx6MOPfy"
   },
   "outputs": [],
   "source": [
    "# --------------\n",
    "# Point 1\n",
    "# --------------\n",
    "def bellman_operator(Q0, Ns, Na, R, P, gamma):\n",
    "    V = np.max(Q0, axis=1)\n",
    "    Q1 = R + gamma * P.dot(V)\n",
    "    greedy_policy = np.argmax(Q1, axis=1)\n",
    "    return Q1, greedy_policy"
   ]
  },
  {
   "cell_type": "code",
   "execution_count": 4,
   "metadata": {
    "colab": {},
    "colab_type": "code",
    "id": "jj65cQk5OPf0"
   },
   "outputs": [],
   "source": [
    "# --------------\n",
    "# Point 2\n",
    "# --------------\n",
    "def value_iteration(Q0, env, epsilon=1e-5):\n",
    "    # TODO (feel free to change the return argument)\n",
    "    gamma = env.gamma\n",
    "    Q_history = [Q0]\n",
    "    Ns, Na, R, P = env.Ns, env.Na, env.R.mean(2), env.P\n",
    "    while True:\n",
    "        Q, greedy_policy = bellman_operator(Q0, Ns, Na, R, P, gamma)\n",
    "        Q_history.append(Q)\n",
    "        \n",
    "        # Stopping criteria\n",
    "        if np.max(np.abs(Q - Q0)) < epsilon:\n",
    "            break\n",
    "        \n",
    "        Q0 = Q\n",
    "        \n",
    "    return Q, greedy_policy, Q_history"
   ]
  },
  {
   "cell_type": "code",
   "execution_count": 5,
   "metadata": {
    "colab": {},
    "colab_type": "code",
    "id": "W_lBe6q6OPf2"
   },
   "outputs": [
    {
     "data": {
      "text/plain": [
       "Text(0.5, 1.0, 'Q-learning: Convergence of Q')"
      ]
     },
     "execution_count": 5,
     "metadata": {},
     "output_type": "execute_result"
    },
    {
     "data": {
      "image/png": "[encoded data removed]",
      "text/plain": [
       "<Figure size 432x288 with 1 Axes>"
      ]
     },
     "metadata": {
      "needs_background": "light"
     },
     "output_type": "display_data"
    }
   ],
   "source": [
    "# --------------\n",
    "# Point 3\n",
    "# --------------\n",
    "with open(\"./mvarl_hands_on/data/Q_opts.json\", \"r\") as fp:\n",
    "    Qopts = json.load(fp)\n",
    "Qstar = Qopts[\"{}_{}\".format(type(env).__name__,env.gamma)]\n",
    "\n",
    "# Random initialization\n",
    "Q0 = np.random.rand(env.Ns, env.Na)\n",
    "Q, greedy_policy, Q_history = value_iteration(Q0, env)\n",
    "\n",
    "# TODO\n",
    "norm_values = list(map(\n",
    "    lambda q: np.max(np.abs(q - Qstar)), Q_history\n",
    "))\n",
    "\n",
    "plt.plot(norm_values)\n",
    "plt.xlabel('Iteration')\n",
    "plt.ylabel('Error')\n",
    "plt.title(\"Q-learning: Convergence of Q\")"
   ]
  },
  {
   "cell_type": "code",
   "execution_count": 6,
   "metadata": {
    "colab": {},
    "colab_type": "code",
    "id": "FbzFs3tDvcJy",
    "scrolled": false
   },
   "outputs": [
    {
     "name": "stdout",
     "output_type": "stream",
     "text": [
      "+-----------------------+\n",
      "| : : : : : : : : : : : |\n",
      "| : : : : : : : : : : : |\n",
      "| : : : : : : : : : : : |\n",
      "|\u001b[43mS\u001b[0m:x:x:x:x:x:x:x:x:x:x:G|\n",
      "+-----------------------+\n",
      "\n",
      "+-----------------------+\n",
      "| : : : : : : : : : : : |\n",
      "| : : : : : : : : : : : |\n",
      "|\u001b[43m_\u001b[0m: : : : : : : : : : : |\n",
      "|S:x:x:x:x:x:x:x:x:x:x:G|\n",
      "+-----------------------+\n",
      "  (up)\n",
      "+-----------------------+\n",
      "| : : : : : : : : : : : |\n",
      "| : : : : : : : : : : : |\n",
      "| :\u001b[43m_\u001b[0m: : : : : : : : : : |\n",
      "|S:x:x:x:x:x:x:x:x:x:x:G|\n",
      "+-----------------------+\n",
      "  (right)\n",
      "+-----------------------+\n",
      "| : : : : : : : : : : : |\n",
      "| : : : : : : : : : : : |\n",
      "| : :\u001b[43m_\u001b[0m: : : : : : : : : |\n",
      "|S:x:x:x:x:x:x:x:x:x:x:G|\n",
      "+-----------------------+\n",
      "  (right)\n",
      "+-----------------------+\n",
      "| : : : : : : : : : : : |\n",
      "| : : : : : : : : : : : |\n",
      "| : : :\u001b[43m_\u001b[0m: : : : : : : : |\n",
      "|S:x:x:x:x:x:x:x:x:x:x:G|\n",
      "+-----------------------+\n",
      "  (right)\n",
      "+-----------------------+\n",
      "| : : : : : : : : : : : |\n",
      "| : : : : : : : : : : : |\n",
      "| : : : :\u001b[43m_\u001b[0m: : : : : : : |\n",
      "|S:x:x:x:x:x:x:x:x:x:x:G|\n",
      "+-----------------------+\n",
      "  (right)\n",
      "+-----------------------+\n",
      "| : : : : : : : : : : : |\n",
      "| : : : : : : : : : : : |\n",
      "| : : : : :\u001b[43m_\u001b[0m: : : : : : |\n",
      "|S:x:x:x:x:x:x:x:x:x:x:G|\n",
      "+-----------------------+\n",
      "  (right)\n",
      "+-----------------------+\n",
      "| : : : : : : : : : : : |\n",
      "| : : : : : : : : : : : |\n",
      "| : : : : : :\u001b[43m_\u001b[0m: : : : : |\n",
      "|S:x:x:x:x:x:x:x:x:x:x:G|\n",
      "+-----------------------+\n",
      "  (right)\n",
      "+-----------------------+\n",
      "| : : : : : : : : : : : |\n",
      "| : : : : : : : : : : : |\n",
      "| : : : : : : :\u001b[43m_\u001b[0m: : : : |\n",
      "|S:x:x:x:x:x:x:x:x:x:x:G|\n",
      "+-----------------------+\n",
      "  (right)\n",
      "+-----------------------+\n",
      "| : : : : : : : : : : : |\n",
      "| : : : : : : : : : : : |\n",
      "| : : : : : : : :\u001b[43m_\u001b[0m: : : |\n",
      "|S:x:x:x:x:x:x:x:x:x:x:G|\n",
      "+-----------------------+\n",
      "  (right)\n",
      "+-----------------------+\n",
      "| : : : : : : : : : : : |\n",
      "| : : : : : : : : : : : |\n",
      "| : : : : : : : : :\u001b[43m_\u001b[0m: : |\n",
      "|S:x:x:x:x:x:x:x:x:x:x:G|\n",
      "+-----------------------+\n",
      "  (right)\n",
      "+-----------------------+\n",
      "| : : : : : : : : : : : |\n",
      "| : : : : : : : : : : : |\n",
      "| : : : : : : : : : :\u001b[43m_\u001b[0m: |\n",
      "|S:x:x:x:x:x:x:x:x:x:x:G|\n",
      "+-----------------------+\n",
      "  (right)\n",
      "+-----------------------+\n",
      "| : : : : : : : : : : : |\n",
      "| : : : : : : : : : : : |\n",
      "| : : : : : : : : : : :\u001b[43m_\u001b[0m|\n",
      "|S:x:x:x:x:x:x:x:x:x:x:G|\n",
      "+-----------------------+\n",
      "  (right)\n",
      "+-----------------------+\n",
      "| : : : : : : : : : : : |\n",
      "| : : : : : : : : : : : |\n",
      "| : : : : : : : : : : : |\n",
      "|S:x:x:x:x:x:x:x:x:x:x:\u001b[42mG\u001b[0m|\n",
      "+-----------------------+\n",
      "  (down)\n"
     ]
    }
   ],
   "source": [
    "state = env.reset()\n",
    "env.render()\n",
    "for i in range(50):\n",
    "    action = greedy_policy[state]\n",
    "    state, reward, done, _ = env.step(action)\n",
    "    env.render()\n",
    "    if done:\n",
    "        break"
   ]
  },
  {
   "cell_type": "markdown",
   "metadata": {
    "colab_type": "text",
    "id": "azfXmRzZOPf4"
   },
   "source": [
    "## Question 2: Q learning\n",
    "Q learning is a model-free algorithm for estimating the optimal Q-function online.\n",
    "It is an off-policy algorithm since the samples are collected with a policy that is (potentially) not the one associated to the estimated Q-function.\n",
    "\n",
    "1. Implement Q learning with $\\epsilon$-greedy exploration.\n",
    "  - Plot the error in Q-functions over iterations\n",
    "  - Plot the sum of rewards as a function of iteration\n",
    "\n",
    "\n",
    "$\\epsilon$-greedy policy:\n",
    "$$\n",
    "\\pi(s) = \\begin{cases}\n",
    "\\max_a Q(s,a) & \\text{w.p.} \\epsilon\\\\\n",
    "\\text{random action} & \\text{w.p.} 1- \\epsilon\n",
    "\\end{cases}\n",
    "$$"
   ]
  },
  {
   "cell_type": "code",
   "execution_count": 118,
   "metadata": {},
   "outputs": [],
   "source": [
    "class QLearning:\n",
    "    \"\"\"\n",
    "    Q learning with epsilon-greedy exploration\n",
    "    \"\"\"\n",
    "    def __init__(self, env, lr=0.5, epsilon=0.1, Q_star=None):\n",
    "        self.env = env\n",
    "        self.Ns = env.Ns\n",
    "        self.Na = env.Na\n",
    "        self.gamma = env.gamma\n",
    "        self.lr = lr  # learning rate\n",
    "        self.epsilon = epsilon\n",
    "        self.Q_star = Q_star  # If we want to compute error\n",
    "        self.norm_values = []\n",
    "        \n",
    "        # Q-table initialization\n",
    "        self.q_table = np.zeros((self.Ns, self.Na))\n",
    "    \n",
    "    def sample_action(self, state):\n",
    "        if np.random.rand() < self.epsilon:\n",
    "            # Exploration with epsilon probability\n",
    "            action = self.env.actions[np.random.randint(self.Na)]\n",
    "        else:\n",
    "            # If not, exploit the learnt q values\n",
    "            action = np.argmax(self.q_table[state])\n",
    "        return action\n",
    "\n",
    "    def update(self, state, action, next_state, reward):\n",
    "        delta_t = reward + self.gamma * np.max(self.q_table[next_state]) - self.q_table[state, action]\n",
    "        self.q_table[state, action] += self.lr * delta_t\n",
    "\n",
    "    def is_done(self, state):\n",
    "        return 47 > state > 36\n",
    "    \n",
    "    def train(self, episodes):\n",
    "        \n",
    "        for episode in range(episodes):\n",
    "            # Initialize a random state\n",
    "            state = self.env.reset()\n",
    "            done = False\n",
    "            \n",
    "            while True:\n",
    "                # Sample an action according to the eps-greedy policy\n",
    "                action = self.sample_action(state)\n",
    "                next_state, reward, done_last, info = self.env.step(action)\n",
    "                \n",
    "                # Update the current state and the Q table\n",
    "                self.update(state, action, next_state, reward)\n",
    "                state = next_state\n",
    "                \n",
    "                # If the new state is terminal, reset the environment\n",
    "                if done or self.is_done(next_state):\n",
    "                    break\n",
    "                    \n",
    "                done = done_last\n",
    "            \n",
    "            if self.Q_star is not None:\n",
    "                self.norm_values.append(np.abs(self.q_table - self.Q_star).mean())\n",
    "    \n",
    "    def greedy_policy(self):\n",
    "        return np.argmax(self.q_table, axis=1)\n",
    "    \n",
    "    def plot_qtable(self):\n",
    "        plt.imshow(self.q_table)\n",
    "    \n",
    "    def plot_errors(self):\n",
    "        plt.plot(self.norm_values)\n",
    "        plt.xlabel('Episode')\n",
    "        plt.ylabel('Error')\n",
    "        plt.title(\"Q-learning: Convergence of Q\")"
   ]
  },
  {
   "cell_type": "code",
   "execution_count": 119,
   "metadata": {
    "scrolled": true
   },
   "outputs": [],
   "source": [
    "env.reset()\n",
    "\n",
    "episodes = 2000 # Number of episodes\n",
    "\n",
    "# Compute Q_opt with value iteration from previous code\n",
    "Q0 = np.zeros((env.Ns, env.Na))\n",
    "Q_opt, pi_opt, _ = value_iteration(Q0, env, epsilon=1e-8)\n",
    "\n",
    "ql = QLearning(env, Q_star=Q_opt)\n",
    "\n",
    "history = ql.train(episodes)\n",
    "\n",
    "greedy_policy = ql.greedy_policy()"
   ]
  },
  {
   "cell_type": "code",
   "execution_count": 120,
   "metadata": {},
   "outputs": [
    {
     "data": {
      "image/png": "[encoded data removed]",
      "text/plain": [
       "<Figure size 432x288 with 1 Axes>"
      ]
     },
     "metadata": {
      "needs_background": "light"
     },
     "output_type": "display_data"
    }
   ],
   "source": [
    "ql.plot_errors()"
   ]
  },
  {
   "cell_type": "code",
   "execution_count": 121,
   "metadata": {
    "scrolled": false
   },
   "outputs": [
    {
     "name": "stdout",
     "output_type": "stream",
     "text": [
      "+-----------------------+\n",
      "| : : : : : : : : : : : |\n",
      "| : : : : : : : : : : : |\n",
      "| : : : : : : : : : : : |\n",
      "|\u001b[43mS\u001b[0m:x:x:x:x:x:x:x:x:x:x:G|\n",
      "+-----------------------+\n",
      "\n",
      "+-----------------------+\n",
      "| : : : : : : : : : : : |\n",
      "| : : : : : : : : : : : |\n",
      "|\u001b[43m_\u001b[0m: : : : : : : : : : : |\n",
      "|S:x:x:x:x:x:x:x:x:x:x:G|\n",
      "+-----------------------+\n",
      "  (up)\n",
      "+-----------------------+\n",
      "| : : : : : : : : : : : |\n",
      "|\u001b[43m_\u001b[0m: : : : : : : : : : : |\n",
      "| : : : : : : : : : : : |\n",
      "|S:x:x:x:x:x:x:x:x:x:x:G|\n",
      "+-----------------------+\n",
      "  (up)\n",
      "+-----------------------+\n",
      "| : : : : : : : : : : : |\n",
      "| :\u001b[43m_\u001b[0m: : : : : : : : : : |\n",
      "| : : : : : : : : : : : |\n",
      "|S:x:x:x:x:x:x:x:x:x:x:G|\n",
      "+-----------------------+\n",
      "  (right)\n",
      "+-----------------------+\n",
      "| :\u001b[43m_\u001b[0m: : : : : : : : : : |\n",
      "| : : : : : : : : : : : |\n",
      "| : : : : : : : : : : : |\n",
      "|S:x:x:x:x:x:x:x:x:x:x:G|\n",
      "+-----------------------+\n",
      "  (up)\n",
      "+-----------------------+\n",
      "| : :\u001b[43m_\u001b[0m: : : : : : : : : |\n",
      "| : : : : : : : : : : : |\n",
      "| : : : : : : : : : : : |\n",
      "|S:x:x:x:x:x:x:x:x:x:x:G|\n",
      "+-----------------------+\n",
      "  (right)\n",
      "+-----------------------+\n",
      "| : : :\u001b[43m_\u001b[0m: : : : : : : : |\n",
      "| : : : : : : : : : : : |\n",
      "| : : : : : : : : : : : |\n",
      "|S:x:x:x:x:x:x:x:x:x:x:G|\n",
      "+-----------------------+\n",
      "  (right)\n",
      "+-----------------------+\n",
      "| : : : :\u001b[43m_\u001b[0m: : : : : : : |\n",
      "| : : : : : : : : : : : |\n",
      "| : : : : : : : : : : : |\n",
      "|S:x:x:x:x:x:x:x:x:x:x:G|\n",
      "+-----------------------+\n",
      "  (right)\n",
      "+-----------------------+\n",
      "| : : : : :\u001b[43m_\u001b[0m: : : : : : |\n",
      "| : : : : : : : : : : : |\n",
      "| : : : : : : : : : : : |\n",
      "|S:x:x:x:x:x:x:x:x:x:x:G|\n",
      "+-----------------------+\n",
      "  (right)\n",
      "+-----------------------+\n",
      "| : : : : : :\u001b[43m_\u001b[0m: : : : : |\n",
      "| : : : : : : : : : : : |\n",
      "| : : : : : : : : : : : |\n",
      "|S:x:x:x:x:x:x:x:x:x:x:G|\n",
      "+-----------------------+\n",
      "  (right)\n",
      "+-----------------------+\n",
      "| : : : : : : :\u001b[43m_\u001b[0m: : : : |\n",
      "| : : : : : : : : : : : |\n",
      "| : : : : : : : : : : : |\n",
      "|S:x:x:x:x:x:x:x:x:x:x:G|\n",
      "+-----------------------+\n",
      "  (right)\n",
      "+-----------------------+\n",
      "| : : : : : : : :\u001b[43m_\u001b[0m: : : |\n",
      "| : : : : : : : : : : : |\n",
      "| : : : : : : : : : : : |\n",
      "|S:x:x:x:x:x:x:x:x:x:x:G|\n",
      "+-----------------------+\n",
      "  (right)\n",
      "+-----------------------+\n",
      "| : : : : : : : : :\u001b[43m_\u001b[0m: : |\n",
      "| : : : : : : : : : : : |\n",
      "| : : : : : : : : : : : |\n",
      "|S:x:x:x:x:x:x:x:x:x:x:G|\n",
      "+-----------------------+\n",
      "  (right)\n",
      "+-----------------------+\n",
      "| : : : : : : : : : :\u001b[43m_\u001b[0m: |\n",
      "| : : : : : : : : : : : |\n",
      "| : : : : : : : : : : : |\n",
      "|S:x:x:x:x:x:x:x:x:x:x:G|\n",
      "+-----------------------+\n",
      "  (right)\n",
      "+-----------------------+\n",
      "| : : : : : : : : : : : |\n",
      "| : : : : : : : : : :\u001b[43m_\u001b[0m: |\n",
      "| : : : : : : : : : : : |\n",
      "|S:x:x:x:x:x:x:x:x:x:x:G|\n",
      "+-----------------------+\n",
      "  (down)\n",
      "+-----------------------+\n",
      "| : : : : : : : : : : : |\n",
      "| : : : : : : : : : : :\u001b[43m_\u001b[0m|\n",
      "| : : : : : : : : : : : |\n",
      "|S:x:x:x:x:x:x:x:x:x:x:G|\n",
      "+-----------------------+\n",
      "  (right)\n",
      "+-----------------------+\n",
      "| : : : : : : : : : : : |\n",
      "| : : : : : : : : : : : |\n",
      "| : : : : : : : : : : :\u001b[43m_\u001b[0m|\n",
      "|S:x:x:x:x:x:x:x:x:x:x:G|\n",
      "+-----------------------+\n",
      "  (down)\n",
      "+-----------------------+\n",
      "| : : : : : : : : : : : |\n",
      "| : : : : : : : : : : : |\n",
      "| : : : : : : : : : : : |\n",
      "|S:x:x:x:x:x:x:x:x:x:x:\u001b[42mG\u001b[0m|\n",
      "+-----------------------+\n",
      "  (down)\n"
     ]
    }
   ],
   "source": [
    "state = env.reset()\n",
    "env.render()\n",
    "for i in range(50):\n",
    "    action = greedy_policy[state]\n",
    "    state, reward, done, _ = env.step(action)\n",
    "    env.render()\n",
    "    if done:\n",
    "        break"
   ]
  }
 ],
 "metadata": {
  "colab": {
   "collapsed_sections": [],
   "name": "MVARL19_part1.ipynb",
   "private_outputs": true,
   "provenance": [],
   "toc_visible": true
  },
  "kernelspec": {
   "display_name": "Python 3",
   "language": "python",
   "name": "python3"
  },
  "language_info": {
   "codemirror_mode": {
    "name": "ipython",
    "version": 3
   },
   "file_extension": ".py",
   "mimetype": "text/x-python",
   "name": "python",
   "nbconvert_exporter": "python",
   "pygments_lexer": "ipython3",
   "version": "3.6.8"
  }
 },
 "nbformat": 4,
 "nbformat_minor": 1
}
