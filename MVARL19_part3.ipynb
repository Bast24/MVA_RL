{
 "cells": [
  {
   "cell_type": "markdown",
   "metadata": {
    "colab_type": "text",
    "id": "rly7ZGiyUKJ6"
   },
   "source": [
    "# Exploration in Linear Bandits\n",
    "\n",
    "The objective of this part is to implement and compare the following strategies for linear bandits:\n",
    "\n",
    "[Optimism in the Face of Uncertainty (LinUCB/OFUL)](https://papers.nips.cc/paper/4417-improved-algorithms-for-linear-stochastic-bandits.pdf)\n",
    "\n",
    "[Thompson Sampling](https://projecteuclid.org/euclid.ejs/1513306870)"
   ]
  },
  {
   "cell_type": "markdown",
   "metadata": {
    "colab_type": "text",
    "id": "infCxpaRA0XC"
   },
   "source": [
    "## Linear bandit\n",
    "We consider the standard linear bandit setting. At each time $t$, the agent selects an arm $a_t \\in A$ and observes a reward\n",
    "$$\n",
    "r_{a}^t = \\langle \\theta^\\star, \\phi_a^t \\rangle + \\eta_a^t := \\mu_a^t + \\eta_a^t\n",
    "$$\n",
    "where $\\theta^{\\star} \\in \\mathbb{R}^{d}$ is a parameter vector, $\\phi_{a}^t \\in \\mathbb{R}^{d} $ are the features of arm $a$ at time $t$, and $\\eta_{a}^{t}$ is a zero-mean  $\\sigma^2$-subgaussian noise. \n",
    "\n",
    "When the features correspond to the canonical basis, this formulation reduces to multi-armed bandit (MAB) with $d$ arms. In the more general case, the features may depend on a context $x_t$, so that $\\phi_a^t = \\phi(x_t, a)$ denotes the feature vector of a context-action pair $(x_t, a)$ and the resulting setting is the so-called linear contextual bandit.\n",
    "\n",
    "We rely on the following standard assumption on the features and the unknown parameter $\\theta^\\star$.\n",
    "\n",
    "**Assumption.** There exist $B,D \\geq 0$, such that $\\|\\theta^\\star\\|_2 \\leq B$, $\\|\\phi_a^t\\| \\leq D$, and $\\langle \\theta^\\star, \\phi_a^t \\rangle \\in [0,1]$, for all $t$ and $a$.\n",
    "\n",
    "Given a finite horizon $n$, the performance of the agent is measured by its (pseudo)-\\emph{regret}:\n",
    "$$\n",
    "        %R(n) = n \\mu^{\\star} - \\sum_{t=1}^n \\mu_{a_t} = \\sum_{i=1}^K T_i(n) \\Delta_i, \n",
    "        R(n) = \\sum_{t=1}^n \\langle \\theta^\\star, \\phi_{a^\\star}^t \\rangle - \\langle \\theta^\\star, \\phi_{a_t}^t \\rangle ,\n",
    "$$\n",
    "where $a^{\\star}_{t} \\in \\arg\\max_{a} \\langle \\theta^\\star, \\phi_{a}^t \\rangle$ is the optimal action at time $t$.\n",
    "\n",
    "**We consider the simple linear bandit setting:** $\\phi_a^t = \\phi_a, \\; \\forall t$\n",
    "\n",
    "\n"
   ]
  },
  {
   "cell_type": "code",
   "execution_count": 1,
   "metadata": {
    "colab": {},
    "colab_type": "code",
    "id": "SlwPdLAwUWfI"
   },
   "outputs": [
    {
     "name": "stdout",
     "output_type": "stream",
     "text": [
      "Clonage dans 'mvarl_hands_on'...\n",
      "remote: Enumerating objects: 39, done.\u001b[K\n",
      "remote: Counting objects: 100% (39/39), done.\u001b[K\n",
      "remote: Compressing objects: 100% (27/27), done.\u001b[K\n",
      "remote: Total 39 (delta 14), reused 37 (delta 12), pack-reused 0\u001b[K\n",
      "Dépaquetage des objets: 100% (39/39), fait.\n",
      "cliffwalk.py  discretization.py  frozen_lake.py  test_env.py\n",
      "coldstart.py  finite_env.py\t gridworld.py\n"
     ]
    }
   ],
   "source": [
    "!rm -rf mvarl_hands_on/\n",
    "!git clone https://github.com/rlgammazero/mvarl_hands_on.git\n",
    "!cd mvarl_hands_on/ && git fetch\n",
    "!ls mvarl_hands_on/utils"
   ]
  },
  {
   "cell_type": "code",
   "execution_count": 11,
   "metadata": {},
   "outputs": [
    {
     "data": {
      "application/javascript": [
       "\n",
       "            setTimeout(function() {\n",
       "                var nbb_cell_id = 11;\n",
       "                var nbb_unformatted_code = \"import sys\\n\\nsys.path.insert(0, \\\"./mvarl_hands_on/utils\\\")\\nimport os\\nimport numpy as np\\nfrom pprint import pprint\\nfrom coldstart import ColdStartFromDataset, RandomLinearArms\\nfrom scipy.sparse.linalg import svds\\nimport matplotlib.pyplot as plt\\nfrom scipy.stats import multivariate_normal\\nimport math\\nfrom tqdm import tqdm\";\n",
       "                var nbb_formatted_code = \"import sys\\n\\nsys.path.insert(0, \\\"./mvarl_hands_on/utils\\\")\\nimport os\\nimport numpy as np\\nfrom pprint import pprint\\nfrom coldstart import ColdStartFromDataset, RandomLinearArms\\nfrom scipy.sparse.linalg import svds\\nimport matplotlib.pyplot as plt\\nfrom scipy.stats import multivariate_normal\\nimport math\\nfrom tqdm import tqdm\";\n",
       "                var nbb_cells = Jupyter.notebook.get_cells();\n",
       "                for (var i = 0; i < nbb_cells.length; ++i) {\n",
       "                    if (nbb_cells[i].input_prompt_number == nbb_cell_id) {\n",
       "                        if (nbb_cells[i].get_text() == nbb_unformatted_code) {\n",
       "                             nbb_cells[i].set_text(nbb_formatted_code);\n",
       "                        }\n",
       "                        break;\n",
       "                    }\n",
       "                }\n",
       "            }, 500);\n",
       "            "
      ],
      "text/plain": [
       "<IPython.core.display.Javascript object>"
      ]
     },
     "metadata": {},
     "output_type": "display_data"
    }
   ],
   "source": [
    "import sys\n",
    "\n",
    "sys.path.insert(0, \"./mvarl_hands_on/utils\")\n",
    "import os\n",
    "import numpy as np\n",
    "from pprint import pprint\n",
    "from coldstart import ColdStartFromDataset, RandomLinearArms\n",
    "from scipy.sparse.linalg import svds\n",
    "import matplotlib.pyplot as plt\n",
    "from scipy.stats import multivariate_normal\n",
    "import math\n",
    "from tqdm import tqdm"
   ]
  },
  {
   "cell_type": "markdown",
   "metadata": {
    "colab_type": "text",
    "id": "78oy9izEUKKA"
   },
   "source": [
    "#### Jester Jokes Dataset (Dense subset of 40 jokes)\n",
    "\n",
    "Deep Bayesian Bandits Showdown: An Empirical Comparison of Bayesian Deep Networks for Thompson Sampling\n",
    "\n",
    "Download the data at: https://storage.googleapis.com/bandits_datasets/jester_data_40jokes_19181users.npy\n",
    "\n",
    "We performed a matrix factorization of the ratings (after filtering over users and jokes). This provides features for the arms and users, the reward (ie rating) is the dot product between the arm and user features (we make it stochastic by adding Gaussian noise). We consider a cold start problem where the user is randomly selected at the beginning of the repetition and the agent has to learn the best arm to recommend. When an arm is selected by the algorithm, its reward is computed as the dot product between the arm and user features."
   ]
  },
  {
   "cell_type": "code",
   "execution_count": 5,
   "metadata": {
    "colab": {},
    "colab_type": "code",
    "id": "HW1YAyl1UKKB"
   },
   "outputs": [
    {
     "name": "stdout",
     "output_type": "stream",
     "text": [
      "--2020-01-06 12:10:49--  https://storage.googleapis.com/bandits_datasets/jester_data_40jokes_19181users.npy\n",
      "Résolution de storage.googleapis.com (storage.googleapis.com)… 2a00:1450:4007:808::2010, 216.58.215.48\n",
      "Connexion à storage.googleapis.com (storage.googleapis.com)|2a00:1450:4007:808::2010|:443… connecté.\n",
      "requête HTTP transmise, en attente de la réponse… 200 OK\n",
      "Taille : 6138000 (5,9M) [application/octet-stream]\n",
      "Enregistre : «jester_data_40jokes_19181users.npy»\n",
      "\n",
      "jester_data_40jokes 100%[===================>]   5,85M  1,71MB/s    ds 3,4s    \n",
      "\n",
      "2020-01-06 12:10:53 (1,71 MB/s) - «jester_data_40jokes_19181users.npy» enregistré [6138000/6138000]\n",
      "\n"
     ]
    }
   ],
   "source": [
    "!wget https://storage.googleapis.com/bandits_datasets/jester_data_40jokes_19181users.npy"
   ]
  },
  {
   "cell_type": "code",
   "execution_count": 3,
   "metadata": {},
   "outputs": [
    {
     "name": "stdout",
     "output_type": "stream",
     "text": [
      "U: (19181, 35)\n",
      "Vt: (35, 40)\n",
      "#features: 35\n",
      "#arms: 40\n"
     ]
    },
    {
     "data": {
      "application/javascript": [
       "\n",
       "            setTimeout(function() {\n",
       "                var nbb_cell_id = 3;\n",
       "                var nbb_unformatted_code = \"M = np.load(\\\"jester_data_40jokes_19181users.npy\\\")\\nM = M / 10\\nK = 35\\nU, s, Vt = svds(M, k=K)\\ns = np.diag(s)\\nU = np.dot(U, s)\\nprint(\\\"U: {}\\\".format(U.shape))\\nprint(\\\"Vt: {}\\\".format(Vt.shape))\\nprint(\\\"#features: {}\\\".format(Vt.shape[0]))\\nprint(\\\"#arms: {}\\\".format(Vt.shape[1]))\\nnp.savetxt(\\\"U_jester.csv\\\", U, delimiter=\\\",\\\")\\nnp.savetxt(\\\"Vt_jester.csv\\\", Vt, delimiter=\\\",\\\")\";\n",
       "                var nbb_formatted_code = \"M = np.load(\\\"jester_data_40jokes_19181users.npy\\\")\\nM = M / 10\\nK = 35\\nU, s, Vt = svds(M, k=K)\\ns = np.diag(s)\\nU = np.dot(U, s)\\nprint(\\\"U: {}\\\".format(U.shape))\\nprint(\\\"Vt: {}\\\".format(Vt.shape))\\nprint(\\\"#features: {}\\\".format(Vt.shape[0]))\\nprint(\\\"#arms: {}\\\".format(Vt.shape[1]))\\nnp.savetxt(\\\"U_jester.csv\\\", U, delimiter=\\\",\\\")\\nnp.savetxt(\\\"Vt_jester.csv\\\", Vt, delimiter=\\\",\\\")\";\n",
       "                var nbb_cells = Jupyter.notebook.get_cells();\n",
       "                for (var i = 0; i < nbb_cells.length; ++i) {\n",
       "                    if (nbb_cells[i].input_prompt_number == nbb_cell_id) {\n",
       "                        if (nbb_cells[i].get_text() == nbb_unformatted_code) {\n",
       "                             nbb_cells[i].set_text(nbb_formatted_code);\n",
       "                        }\n",
       "                        break;\n",
       "                    }\n",
       "                }\n",
       "            }, 500);\n",
       "            "
      ],
      "text/plain": [
       "<IPython.core.display.Javascript object>"
      ]
     },
     "metadata": {},
     "output_type": "display_data"
    }
   ],
   "source": [
    "M = np.load(\"jester_data_40jokes_19181users.npy\")\n",
    "M = M / 10\n",
    "K = 35\n",
    "U, s, Vt = svds(M, k=K)\n",
    "s = np.diag(s)\n",
    "U = np.dot(U, s)\n",
    "print(\"U: {}\".format(U.shape))\n",
    "print(\"Vt: {}\".format(Vt.shape))\n",
    "print(\"#features: {}\".format(Vt.shape[0]))\n",
    "print(\"#arms: {}\".format(Vt.shape[1]))\n",
    "np.savetxt(\"U_jester.csv\", U, delimiter=\",\")\n",
    "np.savetxt(\"Vt_jester.csv\", Vt, delimiter=\",\")"
   ]
  },
  {
   "cell_type": "markdown",
   "metadata": {
    "colab_type": "text",
    "id": "VmQdkpc-UKKF"
   },
   "source": [
    "Create the coldstart model"
   ]
  },
  {
   "cell_type": "code",
   "execution_count": 4,
   "metadata": {},
   "outputs": [
    {
     "name": "stdout",
     "output_type": "stream",
     "text": [
      "Current config is:\n",
      "{'arm_csvfile': '/home/bdechamps/MVA/RL/MVA_RL/Vt_jester.csv',\n",
      " 'noise_std': 0.1,\n",
      " 'random_state': 1235,\n",
      " 'user_csvfile': '/home/bdechamps/MVA/RL/MVA_RL/U_jester.csv',\n",
      " 'user_subset': [0, 44, 88, 133, 177, 222, 266, 311, 355, 400]}\n"
     ]
    },
    {
     "data": {
      "application/javascript": [
       "\n",
       "            setTimeout(function() {\n",
       "                var nbb_cell_id = 4;\n",
       "                var nbb_unformatted_code = \"seed = 1235\\nuser_subset = np.linspace(0, 400, 10).astype(int).tolist()\\narm_csvfile = os.path.abspath('Vt_jester.csv')\\nuser_csvfile = os.path.abspath('U_jester.csv')\\nnoise_std = 0.1\\n\\nconfig_cs = {\\n    'arm_csvfile': arm_csvfile,\\n    'user_csvfile': user_csvfile,\\n    'random_state': seed,\\n    'user_subset': user_subset,\\n    'noise_std': noise_std\\n}\\n\\nprint(\\\"Current config is:\\\")\\npprint(config_cs)\";\n",
       "                var nbb_formatted_code = \"seed = 1235\\nuser_subset = np.linspace(0, 400, 10).astype(int).tolist()\\narm_csvfile = os.path.abspath(\\\"Vt_jester.csv\\\")\\nuser_csvfile = os.path.abspath(\\\"U_jester.csv\\\")\\nnoise_std = 0.1\\n\\nconfig_cs = {\\n    \\\"arm_csvfile\\\": arm_csvfile,\\n    \\\"user_csvfile\\\": user_csvfile,\\n    \\\"random_state\\\": seed,\\n    \\\"user_subset\\\": user_subset,\\n    \\\"noise_std\\\": noise_std,\\n}\\n\\nprint(\\\"Current config is:\\\")\\npprint(config_cs)\";\n",
       "                var nbb_cells = Jupyter.notebook.get_cells();\n",
       "                for (var i = 0; i < nbb_cells.length; ++i) {\n",
       "                    if (nbb_cells[i].input_prompt_number == nbb_cell_id) {\n",
       "                        if (nbb_cells[i].get_text() == nbb_unformatted_code) {\n",
       "                             nbb_cells[i].set_text(nbb_formatted_code);\n",
       "                        }\n",
       "                        break;\n",
       "                    }\n",
       "                }\n",
       "            }, 500);\n",
       "            "
      ],
      "text/plain": [
       "<IPython.core.display.Javascript object>"
      ]
     },
     "metadata": {},
     "output_type": "display_data"
    }
   ],
   "source": [
    "seed = 1235\n",
    "user_subset = np.linspace(0, 400, 10).astype(int).tolist()\n",
    "arm_csvfile = os.path.abspath('Vt_jester.csv')\n",
    "user_csvfile = os.path.abspath('U_jester.csv')\n",
    "noise_std = 0.1\n",
    "\n",
    "config_cs = {\n",
    "    'arm_csvfile': arm_csvfile,\n",
    "    'user_csvfile': user_csvfile,\n",
    "    'random_state': seed,\n",
    "    'user_subset': user_subset,\n",
    "    'noise_std': noise_std\n",
    "}\n",
    "\n",
    "print(\"Current config is:\")\n",
    "pprint(config_cs)\n"
   ]
  },
  {
   "cell_type": "code",
   "execution_count": 5,
   "metadata": {},
   "outputs": [
    {
     "name": "stdout",
     "output_type": "stream",
     "text": [
      "\n",
      "The new user arriving to the system is user # 222\n",
      "\n",
      "Theta*:  [ 0.60768701  0.22282253 -0.22643899  0.02040195  0.59490395  0.44860969\n",
      " -0.6017342   0.51336444 -0.33916609  1.08450089  0.19933839  0.31922471\n",
      "  0.14813868  0.33235693  0.1490287  -0.03148608 -0.52536238  0.15506547\n",
      " -0.35049923 -0.04381107 -0.30580771  0.6075547  -0.7093192  -0.12169536\n",
      " -0.59119731  0.751896   -0.12526202  0.96516389  0.15991881  0.95369292\n",
      "  0.13907613  0.49802877  0.50969068 -1.1405248   1.99847038]\n",
      "\n",
      "Means:  [0.03166748 1.         0.7812777  0.86211556 0.47401511 0.78737614\n",
      " 0.7220526  0.53701573 0.35024036 0.71579278 0.81149121 0.1887264\n",
      " 0.78713313 0.88226533 0.02188491 0.62244738 0.74552921 0.44693205\n",
      " 0.57882853 0.63138315 0.01585463 0.48629039 0.7895057  0.83992301\n",
      " 0.77264996 0.69231019 0.6554525  0.65802771 0.74321219 0.7367446\n",
      " 0.69337476 0.36425563 0.02093084 0.75762399 0.42779578 0.74545807\n",
      " 0.73585842 0.67338801 0.         0.70343108]\n",
      "\n",
      "Theta bound:  3.6420157245628473\n"
     ]
    },
    {
     "data": {
      "application/javascript": [
       "\n",
       "            setTimeout(function() {\n",
       "                var nbb_cell_id = 5;\n",
       "                var nbb_unformatted_code = \"noise = 0.2\\nrandom_state = 312\\nmodel = ColdStartFromDataset(**config_cs)\\nprint(\\\"\\\\nThe new user arriving to the system is user #\\\", model.theta_idx)\\nprint(\\\"\\\\nTheta*: \\\", model.theta)\\nmeans = np.dot(model.features, model.theta)\\nprint(\\\"\\\\nMeans: \\\", means)\\ntheta_bound = np.linalg.norm(model.theta, 2)\\nprint(\\\"\\\\nTheta bound: \\\", theta_bound)\";\n",
       "                var nbb_formatted_code = \"noise = 0.2\\nrandom_state = 312\\nmodel = ColdStartFromDataset(**config_cs)\\nprint(\\\"\\\\nThe new user arriving to the system is user #\\\", model.theta_idx)\\nprint(\\\"\\\\nTheta*: \\\", model.theta)\\nmeans = np.dot(model.features, model.theta)\\nprint(\\\"\\\\nMeans: \\\", means)\\ntheta_bound = np.linalg.norm(model.theta, 2)\\nprint(\\\"\\\\nTheta bound: \\\", theta_bound)\";\n",
       "                var nbb_cells = Jupyter.notebook.get_cells();\n",
       "                for (var i = 0; i < nbb_cells.length; ++i) {\n",
       "                    if (nbb_cells[i].input_prompt_number == nbb_cell_id) {\n",
       "                        if (nbb_cells[i].get_text() == nbb_unformatted_code) {\n",
       "                             nbb_cells[i].set_text(nbb_formatted_code);\n",
       "                        }\n",
       "                        break;\n",
       "                    }\n",
       "                }\n",
       "            }, 500);\n",
       "            "
      ],
      "text/plain": [
       "<IPython.core.display.Javascript object>"
      ]
     },
     "metadata": {},
     "output_type": "display_data"
    }
   ],
   "source": [
    "noise = 0.2\n",
    "random_state = 312\n",
    "model = ColdStartFromDataset(**config_cs)\n",
    "print(\"\\nThe new user arriving to the system is user #\", model.theta_idx)\n",
    "print(\"\\nTheta*: \", model.theta)\n",
    "means = np.dot(model.features, model.theta)\n",
    "print(\"\\nMeans: \", means)\n",
    "theta_bound = np.linalg.norm(model.theta, 2)\n",
    "print(\"\\nTheta bound: \", theta_bound)"
   ]
  },
  {
   "cell_type": "markdown",
   "metadata": {
    "colab_type": "text",
    "id": "6KUmWBFlUKKJ"
   },
   "source": [
    "**Question 1**: implement LinUCB"
   ]
  },
  {
   "cell_type": "markdown",
   "metadata": {
    "colab_type": "text",
    "id": "G45BzTW_J4Gr"
   },
   "source": [
    "### LinUCB / OFUL\n",
    "See the slides!\n",
    "\n",
    "Note that it is not necessary to invert the matrix $A_t$ at each round. Since $A_t$ is obtained from a rank-1 update of $A_{t-1}$, it is possible to use Sherman–Morrison formula to build directly $A_t^{-1}$.\n",
    "\n",
    "Suppose $𝐴$ be a nonsingular $n\\times n$ matrix and $\\mathbf{u}, \\mathbf{v}$ be vectors. Then\n",
    "$$\n",
    "(A+\\mathbf{u}\\mathbf{v}^T)^{-1} = A^{-1} - \\frac{A^{-1}\\mathbf{u}\\mathbf{v}^TA^{-1}}{1+\\mathbf{v}^TA^{-1}\\mathbf{u}}.\n",
    "$$"
   ]
  },
  {
   "cell_type": "code",
   "execution_count": 28,
   "metadata": {},
   "outputs": [
    {
     "data": {
      "application/javascript": [
       "\n",
       "            setTimeout(function() {\n",
       "                var nbb_cell_id = 28;\n",
       "                var nbb_unformatted_code = \"def sherman_morrison(inv_a, u, v):\\n    temp = inv_a @ np.outer(u, v) @ inv_a\\n    temp /= (1. + v.T @ inv_a @ u)\\n    \\n    return inv_a - temp\\n\\nclass OFUL:\\n    def __init__(self, arm_features, reg_factor, delta,\\n                 bound_theta, noise_std):\\n        self.arm_features = arm_features\\n        self.reg_factor = reg_factor\\n        self.delta = delta\\n        self.iteration = 0\\n        self.bound_theta = bound_theta\\n        self.bound_features = np.max(np.sqrt(np.sum(np.abs(arm_features) ** 2, axis=1)))\\n        self.noise_std = noise_std\\n        \\n        # Initialize the parameters\\n        self.reset()\\n\\n    @property\\n    def n_actions(self):\\n        return self.arm_features.shape[0]\\n\\n    @property\\n    def n_features(self):\\n        return self.arm_features.shape[1]\\n    \\n    def reset(self):\\n        \\\"\\\"\\\"Reset the internal estimates\\n        \\\"\\\"\\\"\\n        self.a_inv = self.reg_factor * np.identity(self.n_features)\\n        self.b = np.zeros(self.n_features)\\n        self.theta = np.zeros(self.n_features)        \\n        \\n    def alpha(self):\\n        alpha = self.noise_std * np.sqrt(self.n_features * np.log(\\n            (1. + self.iteration * self.bound_features / self.reg_factor) / self.delta)\\n        ) + np.sqrt(self.reg_factor) * np.linalg.norm(self.theta) ** 2\\n        \\n        return alpha\\n    \\n    def sample_action(self):\\n        \\\"\\\"\\\"Return the action to play based on current estimates\\n        \\\"\\\"\\\"\\n        B = self.arm_features @ self.theta + self.alpha() * np.sqrt(\\n            np.diag(self.arm_features @ self.a_inv @ self.arm_features.T)\\n        )\\n        action = np.argmax(B)\\n        \\n        return action\\n    \\n    def update(self, a_t, r_t):\\n        \\\"\\\"\\\"Update the estimates of the model\\n        \\n\\n        Parameters\\n        ----------\\n        a_t: int\\n            The action played at the current episode\\n        r_t: float\\n            The reward associated to action a_t\\n\\n        Returns\\n        -------\\n        none\\n        \\\"\\\"\\\"\\n        self.iteration += 1\\n        \\n        # Use Sherman\\u2013Morrison formula to update A^-1\\n        features = self.arm_features[a_t]\\n        \\n        self.a_inv = sherman_morrison(self.a_inv, features, features)\\n        \\n        # Update b\\n        self.b += r_t * features\\n        \\n        # Update theta\\n        self.theta = self.a_inv @ self.b\";\n",
       "                var nbb_formatted_code = \"def sherman_morrison(inv_a, u, v):\\n    temp = inv_a @ np.outer(u, v) @ inv_a\\n    temp /= 1.0 + v.T @ inv_a @ u\\n\\n    return inv_a - temp\\n\\n\\nclass OFUL:\\n    def __init__(self, arm_features, reg_factor, delta, bound_theta, noise_std):\\n        self.arm_features = arm_features\\n        self.reg_factor = reg_factor\\n        self.delta = delta\\n        self.iteration = 0\\n        self.bound_theta = bound_theta\\n        self.bound_features = np.max(np.sqrt(np.sum(np.abs(arm_features) ** 2, axis=1)))\\n        self.noise_std = noise_std\\n\\n        # Initialize the parameters\\n        self.reset()\\n\\n    @property\\n    def n_actions(self):\\n        return self.arm_features.shape[0]\\n\\n    @property\\n    def n_features(self):\\n        return self.arm_features.shape[1]\\n\\n    def reset(self):\\n        \\\"\\\"\\\"Reset the internal estimates\\n        \\\"\\\"\\\"\\n        self.a_inv = self.reg_factor * np.identity(self.n_features)\\n        self.b = np.zeros(self.n_features)\\n        self.theta = np.zeros(self.n_features)\\n\\n    def alpha(self):\\n        alpha = (\\n            self.noise_std\\n            * np.sqrt(\\n                self.n_features\\n                * np.log(\\n                    (1.0 + self.iteration * self.bound_features / self.reg_factor)\\n                    / self.delta\\n                )\\n            )\\n            + np.sqrt(self.reg_factor) * np.linalg.norm(self.theta) ** 2\\n        )\\n\\n        return alpha\\n\\n    def sample_action(self):\\n        \\\"\\\"\\\"Return the action to play based on current estimates\\n        \\\"\\\"\\\"\\n        B = self.arm_features @ self.theta + self.alpha() * np.sqrt(\\n            np.diag(self.arm_features @ self.a_inv @ self.arm_features.T)\\n        )\\n        action = np.argmax(B)\\n\\n        return action\\n\\n    def update(self, a_t, r_t):\\n        \\\"\\\"\\\"Update the estimates of the model\\n        \\n\\n        Parameters\\n        ----------\\n        a_t: int\\n            The action played at the current episode\\n        r_t: float\\n            The reward associated to action a_t\\n\\n        Returns\\n        -------\\n        none\\n        \\\"\\\"\\\"\\n        self.iteration += 1\\n\\n        # Use Sherman\\u2013Morrison formula to update A^-1\\n        features = self.arm_features[a_t]\\n\\n        self.a_inv = sherman_morrison(self.a_inv, features, features)\\n\\n        # Update b\\n        self.b += r_t * features\\n\\n        # Update theta\\n        self.theta = self.a_inv @ self.b\";\n",
       "                var nbb_cells = Jupyter.notebook.get_cells();\n",
       "                for (var i = 0; i < nbb_cells.length; ++i) {\n",
       "                    if (nbb_cells[i].input_prompt_number == nbb_cell_id) {\n",
       "                        if (nbb_cells[i].get_text() == nbb_unformatted_code) {\n",
       "                             nbb_cells[i].set_text(nbb_formatted_code);\n",
       "                        }\n",
       "                        break;\n",
       "                    }\n",
       "                }\n",
       "            }, 500);\n",
       "            "
      ],
      "text/plain": [
       "<IPython.core.display.Javascript object>"
      ]
     },
     "metadata": {},
     "output_type": "display_data"
    }
   ],
   "source": [
    "def sherman_morrison(inv_a, u, v):\n",
    "    temp = inv_a @ np.outer(u, v) @ inv_a\n",
    "    temp /= (1. + v.T @ inv_a @ u)\n",
    "    \n",
    "    return inv_a - temp\n",
    "\n",
    "class OFUL:\n",
    "    def __init__(self, arm_features, reg_factor, delta,\n",
    "                 bound_theta, noise_std):\n",
    "        self.arm_features = arm_features\n",
    "        self.reg_factor = reg_factor\n",
    "        self.delta = delta\n",
    "        self.iteration = 0\n",
    "        self.bound_theta = bound_theta\n",
    "        self.bound_features = np.max(np.sqrt(np.sum(np.abs(arm_features) ** 2, axis=1)))\n",
    "        self.noise_std = noise_std\n",
    "        \n",
    "        # Initialize the parameters\n",
    "        self.reset()\n",
    "\n",
    "    @property\n",
    "    def n_actions(self):\n",
    "        return self.arm_features.shape[0]\n",
    "\n",
    "    @property\n",
    "    def n_features(self):\n",
    "        return self.arm_features.shape[1]\n",
    "    \n",
    "    def reset(self):\n",
    "        \"\"\"Reset the internal estimates\n",
    "        \"\"\"\n",
    "        self.a_inv = self.reg_factor * np.identity(self.n_features)\n",
    "        self.b = np.zeros(self.n_features)\n",
    "        self.theta = np.zeros(self.n_features)        \n",
    "        \n",
    "    def alpha(self):\n",
    "        alpha = self.noise_std * np.sqrt(self.n_features * np.log(\n",
    "            (1. + self.iteration * self.bound_features / self.reg_factor) / self.delta)\n",
    "        ) + np.sqrt(self.reg_factor) * np.linalg.norm(self.theta) ** 2\n",
    "        \n",
    "        return alpha\n",
    "    \n",
    "    def sample_action(self):\n",
    "        \"\"\"Return the action to play based on current estimates\n",
    "        \"\"\"\n",
    "        B = self.arm_features @ self.theta + self.alpha() * np.sqrt(\n",
    "            np.diag(self.arm_features @ self.a_inv @ self.arm_features.T)\n",
    "        )\n",
    "        action = np.argmax(B)\n",
    "        \n",
    "        return action\n",
    "    \n",
    "    def update(self, a_t, r_t):\n",
    "        \"\"\"Update the estimates of the model\n",
    "        \n",
    "\n",
    "        Parameters\n",
    "        ----------\n",
    "        a_t: int\n",
    "            The action played at the current episode\n",
    "        r_t: float\n",
    "            The reward associated to action a_t\n",
    "\n",
    "        Returns\n",
    "        -------\n",
    "        none\n",
    "        \"\"\"\n",
    "        self.iteration += 1\n",
    "        \n",
    "        # Use Sherman–Morrison formula to update A^-1\n",
    "        features = self.arm_features[a_t]\n",
    "        \n",
    "        self.a_inv = sherman_morrison(self.a_inv, features, features)\n",
    "        \n",
    "        # Update b\n",
    "        self.b += r_t * features\n",
    "        \n",
    "        # Update theta\n",
    "        self.theta = self.a_inv @ self.b\n"
   ]
  },
  {
   "cell_type": "markdown",
   "metadata": {
    "colab_type": "text",
    "id": "OtwYcKlrK6UP"
   },
   "source": [
    "**Question 2:** implement LinearTS"
   ]
  },
  {
   "cell_type": "markdown",
   "metadata": {
    "colab_type": "text",
    "id": "9xl29-B3MEOC"
   },
   "source": [
    "Let $A_t$ be the design matrix, $\\theta_t$ the estimate of $\\theta^\\star$ and $\\beta_t$ the confidence interval built by LinUCB. Then, at every time step t,  LinearTS simply generates\n",
    "a sample $\\tilde{\\theta}_t$ from the distribution $\\mathcal{N}(\\widehat{\\theta}_t, \\omega_t \\alpha_t^2 A_t^{-1})$.\n",
    "\n",
    "LinearTS\n",
    "\n",
    "For $t=1, \\ldots, T$\n",
    "> $\\tilde{\\theta}_t \\sim \\mathcal{N}(\\widehat{\\theta}_t, \\omega_t \\alpha_t^2 A_t^{-1})$\n",
    ">\n",
    "> $a_t \\in \\arg\\max_{a \\in \\mathcal{A}_t}  \\langle \\tilde{\\theta}_t, \\phi_{a} \\rangle$\n",
    ">\n",
    "> observe reward $r_t$\n",
    "\n",
    "TS is requires to draw $\\tilde{\\theta}_t$ from a distribution over-sampling by a factor $\\sqrt{d}$ the ellipsoid constructed by OFUL (i.e., $\\omega_t = d$). This is required to prove that LinearTS is optimistic with a fix probability. This is necessary to prove the frequentist regret of TS. The regret of TS is worse than the one of LinUCB by a factor $\\sqrt{d}$ (i.e., $\\widetilde{O}(d^{3/2}\\sqrt{T})$)"
   ]
  },
  {
   "cell_type": "code",
   "execution_count": 29,
   "metadata": {},
   "outputs": [
    {
     "data": {
      "application/javascript": [
       "\n",
       "            setTimeout(function() {\n",
       "                var nbb_cell_id = 29;\n",
       "                var nbb_unformatted_code = \"class LinearTS(OFUL):\\n    def __init__(self, arm_features, reg_factor, delta, bound_theta, noise_std):\\n        super(LinearTS, self).__init__(\\n            arm_features, reg_factor, delta, bound_theta, noise_std\\n        )\\n\\n    def sample_action(self):\\n        theta_t = np.random.multivariate_normal(\\n            self.theta, self.n_features * self.alpha() ** 2 * self.a_inv\\n        )\\n        action = np.argmax(self.arm_features @ theta_t)\\n\\n        return action\";\n",
       "                var nbb_formatted_code = \"class LinearTS(OFUL):\\n    def __init__(self, arm_features, reg_factor, delta, bound_theta, noise_std):\\n        super(LinearTS, self).__init__(\\n            arm_features, reg_factor, delta, bound_theta, noise_std\\n        )\\n\\n    def sample_action(self):\\n        theta_t = np.random.multivariate_normal(\\n            self.theta, self.n_features * self.alpha() ** 2 * self.a_inv\\n        )\\n        action = np.argmax(self.arm_features @ theta_t)\\n\\n        return action\";\n",
       "                var nbb_cells = Jupyter.notebook.get_cells();\n",
       "                for (var i = 0; i < nbb_cells.length; ++i) {\n",
       "                    if (nbb_cells[i].input_prompt_number == nbb_cell_id) {\n",
       "                        if (nbb_cells[i].get_text() == nbb_unformatted_code) {\n",
       "                             nbb_cells[i].set_text(nbb_formatted_code);\n",
       "                        }\n",
       "                        break;\n",
       "                    }\n",
       "                }\n",
       "            }, 500);\n",
       "            "
      ],
      "text/plain": [
       "<IPython.core.display.Javascript object>"
      ]
     },
     "metadata": {},
     "output_type": "display_data"
    }
   ],
   "source": [
    "class LinearTS(OFUL):\n",
    "    def __init__(self, arm_features, reg_factor, delta, bound_theta, noise_std):\n",
    "        super(LinearTS, self).__init__(\n",
    "            arm_features, reg_factor, delta, bound_theta, noise_std\n",
    "        )\n",
    "\n",
    "    def sample_action(self):\n",
    "        theta_t = np.random.multivariate_normal(\n",
    "            self.theta, self.n_features * self.alpha() ** 2 * self.a_inv\n",
    "        )\n",
    "        action = np.argmax(self.arm_features @ theta_t)\n",
    "\n",
    "        return action"
   ]
  },
  {
   "cell_type": "markdown",
   "metadata": {
    "colab_type": "text",
    "id": "kKERx2_UUKKN"
   },
   "source": [
    "**Question 3**: run the algorithms (`LinUCB` and `LinearTS`) and average the performance over multiple users (ie simulations)\n",
    "\n",
    "The regret $R(T) = \\sum_t \\phi_t^\\top (\\theta^\\star - \\theta_t)$\n",
    "\n",
    "The performance is the expected regret over multiple users. You can also test `LinearTS` without the additional $\\sqrt{d}$."
   ]
  },
  {
   "cell_type": "markdown",
   "metadata": {
    "colab_type": "text",
    "id": "urKPGY9vXxRn"
   },
   "source": [
    "You can use `RandomLinearArms` to test your code before using Jester"
   ]
  },
  {
   "cell_type": "code",
   "execution_count": 30,
   "metadata": {},
   "outputs": [
    {
     "name": "stdout",
     "output_type": "stream",
     "text": [
      "OFUL simulation 1/4\n",
      "OFUL simulation 2/4\n",
      "OFUL simulation 3/4\n",
      "OFUL simulation 4/4\n",
      "LinearTS simulation 1/4\n",
      "LinearTS simulation 2/4\n",
      "LinearTS simulation 3/4\n",
      "LinearTS simulation 4/4\n"
     ]
    },
    {
     "data": {
      "application/javascript": [
       "\n",
       "            setTimeout(function() {\n",
       "                var nbb_cell_id = 30;\n",
       "                var nbb_unformatted_code = \"# from mvarl_hands_on.utils.coldstart import RandomLinearArms\\n\\nnb_simulations = 4\\nT = int(4e4)\\n\\nalgorithms = {\\n    \\\"OFUL\\\": lambda arm_features, bound_theta: OFUL(\\n        arm_features=arm_features,\\n        reg_factor=1.0,\\n        delta=0.01,\\n        bound_theta=bound_theta,\\n        noise_std=config_cs[\\\"noise_std\\\"],\\n    ),\\n    \\\"LinearTS\\\": lambda arm_features, bound_theta: LinearTS(\\n        arm_features=arm_features,\\n        reg_factor=1.0,\\n        delta=0.01,\\n        bound_theta=bound_theta,\\n        noise_std=config_cs[\\\"noise_std\\\"],\\n    ),\\n}\\n\\nregrets = {}\\n\\nfor alg_name in algorithms.keys():\\n    if alg_name not in regrets.keys():\\n        regrets[alg_name] = np.zeros((nb_simulations, T))\\n\\n    for k in range(nb_simulations):\\n        if k % 1 == 0:\\n            print(\\\"{} simulation {}/{}\\\".format(alg_name, k + 1, nb_simulations))\\n        model = ColdStartFromDataset(**config_cs)\\n        #         model = RandomLinearArms()\\n        alg = algorithms[alg_name](arm_features=model.features, bound_theta=theta_bound)\\n\\n        for t in range(T):\\n            a_t = alg.sample_action()\\n            r_t = model.reward(a_t)\\n            alg.update(a_t, r_t)\\n            regrets[alg_name][k, t] = model.best_arm_reward() - r_t\";\n",
       "                var nbb_formatted_code = \"# from mvarl_hands_on.utils.coldstart import RandomLinearArms\\n\\nnb_simulations = 4\\nT = int(4e4)\\n\\nalgorithms = {\\n    \\\"OFUL\\\": lambda arm_features, bound_theta: OFUL(\\n        arm_features=arm_features,\\n        reg_factor=1.0,\\n        delta=0.01,\\n        bound_theta=bound_theta,\\n        noise_std=config_cs[\\\"noise_std\\\"],\\n    ),\\n    \\\"LinearTS\\\": lambda arm_features, bound_theta: LinearTS(\\n        arm_features=arm_features,\\n        reg_factor=1.0,\\n        delta=0.01,\\n        bound_theta=bound_theta,\\n        noise_std=config_cs[\\\"noise_std\\\"],\\n    ),\\n}\\n\\nregrets = {}\\n\\nfor alg_name in algorithms.keys():\\n    if alg_name not in regrets.keys():\\n        regrets[alg_name] = np.zeros((nb_simulations, T))\\n\\n    for k in range(nb_simulations):\\n        if k % 1 == 0:\\n            print(\\\"{} simulation {}/{}\\\".format(alg_name, k + 1, nb_simulations))\\n        model = ColdStartFromDataset(**config_cs)\\n        #         model = RandomLinearArms()\\n        alg = algorithms[alg_name](arm_features=model.features, bound_theta=theta_bound)\\n\\n        for t in range(T):\\n            a_t = alg.sample_action()\\n            r_t = model.reward(a_t)\\n            alg.update(a_t, r_t)\\n            regrets[alg_name][k, t] = model.best_arm_reward() - r_t\";\n",
       "                var nbb_cells = Jupyter.notebook.get_cells();\n",
       "                for (var i = 0; i < nbb_cells.length; ++i) {\n",
       "                    if (nbb_cells[i].input_prompt_number == nbb_cell_id) {\n",
       "                        if (nbb_cells[i].get_text() == nbb_unformatted_code) {\n",
       "                             nbb_cells[i].set_text(nbb_formatted_code);\n",
       "                        }\n",
       "                        break;\n",
       "                    }\n",
       "                }\n",
       "            }, 500);\n",
       "            "
      ],
      "text/plain": [
       "<IPython.core.display.Javascript object>"
      ]
     },
     "metadata": {},
     "output_type": "display_data"
    }
   ],
   "source": [
    "# from mvarl_hands_on.utils.coldstart import RandomLinearArms\n",
    "\n",
    "nb_simulations = 4\n",
    "T = int(4e4)\n",
    "\n",
    "algorithms = {\n",
    "    \"OFUL\": lambda arm_features, bound_theta: OFUL(\n",
    "        arm_features=arm_features,\n",
    "        reg_factor=1.0,\n",
    "        delta=0.01,\n",
    "        bound_theta=bound_theta,\n",
    "        noise_std=config_cs[\"noise_std\"],\n",
    "    ),\n",
    "    \"LinearTS\": lambda arm_features, bound_theta: LinearTS(\n",
    "        arm_features=arm_features,\n",
    "        reg_factor=1.0,\n",
    "        delta=0.01,\n",
    "        bound_theta=bound_theta,\n",
    "        noise_std=config_cs[\"noise_std\"],\n",
    "    ),\n",
    "}\n",
    "\n",
    "regrets = {}\n",
    "\n",
    "for alg_name in algorithms.keys():\n",
    "    if alg_name not in regrets.keys():\n",
    "        regrets[alg_name] = np.zeros((nb_simulations, T))\n",
    "\n",
    "    for k in range(nb_simulations):\n",
    "        if k % 1 == 0:\n",
    "            print(\"{} simulation {}/{}\".format(alg_name, k + 1, nb_simulations))\n",
    "        model = ColdStartFromDataset(**config_cs)\n",
    "        #         model = RandomLinearArms()\n",
    "        alg = algorithms[alg_name](arm_features=model.features, bound_theta=theta_bound)\n",
    "\n",
    "        for t in range(T):\n",
    "            a_t = alg.sample_action()\n",
    "            r_t = model.reward(a_t)\n",
    "            alg.update(a_t, r_t)\n",
    "            regrets[alg_name][k, t] = model.best_arm_reward() - r_t"
   ]
  },
  {
   "cell_type": "code",
   "execution_count": 31,
   "metadata": {
    "colab": {},
    "colab_type": "code",
    "id": "vz5uoLmvUKKP"
   },
   "outputs": [
    {
     "data": {
      "text/plain": [
       "<matplotlib.legend.Legend at 0x7f6abbbb4a58>"
      ]
     },
     "execution_count": 31,
     "metadata": {},
     "output_type": "execute_result"
    },
    {
     "data": {
      "image/png": "[encoded data removed]",
      "text/plain": [
       "<Figure size 720x576 with 1 Axes>"
      ]
     },
     "metadata": {
      "needs_background": "light"
     },
     "output_type": "display_data"
    },
    {
     "data": {
      "application/javascript": [
       "\n",
       "            setTimeout(function() {\n",
       "                var nbb_cell_id = 31;\n",
       "                var nbb_unformatted_code = \"plt.figure(figsize=(10, 8))\\nfor alg_name in regrets.keys():\\n    data = np.cumsum(regrets[alg_name], axis=1)\\n    n_rep, T = data.shape\\n\\n    mean_regret = np.mean(data, axis=0)\\n    std_regret = np.std(data, axis=0) / math.sqrt(n_rep)\\n    t = np.arange(T)\\n    plt.plot(t, mean_regret, label=alg_name)\\n    plt.fill_between(\\n        t, mean_regret - 2 * std_regret, mean_regret + 2 * std_regret, alpha=0.15\\n    )\\nplt.legend()\";\n",
       "                var nbb_formatted_code = \"plt.figure(figsize=(10, 8))\\nfor alg_name in regrets.keys():\\n    data = np.cumsum(regrets[alg_name], axis=1)\\n    n_rep, T = data.shape\\n\\n    mean_regret = np.mean(data, axis=0)\\n    std_regret = np.std(data, axis=0) / math.sqrt(n_rep)\\n    t = np.arange(T)\\n    plt.plot(t, mean_regret, label=alg_name)\\n    plt.fill_between(\\n        t, mean_regret - 2 * std_regret, mean_regret + 2 * std_regret, alpha=0.15\\n    )\\nplt.legend()\";\n",
       "                var nbb_cells = Jupyter.notebook.get_cells();\n",
       "                for (var i = 0; i < nbb_cells.length; ++i) {\n",
       "                    if (nbb_cells[i].input_prompt_number == nbb_cell_id) {\n",
       "                        if (nbb_cells[i].get_text() == nbb_unformatted_code) {\n",
       "                             nbb_cells[i].set_text(nbb_formatted_code);\n",
       "                        }\n",
       "                        break;\n",
       "                    }\n",
       "                }\n",
       "            }, 500);\n",
       "            "
      ],
      "text/plain": [
       "<IPython.core.display.Javascript object>"
      ]
     },
     "metadata": {},
     "output_type": "display_data"
    }
   ],
   "source": [
    "plt.figure(figsize=(10, 8))\n",
    "for alg_name in regrets.keys():\n",
    "    data = np.cumsum(regrets[alg_name], axis=1)\n",
    "    n_rep, T = data.shape\n",
    "\n",
    "    mean_regret = np.mean(data, axis=0)\n",
    "    std_regret = np.std(data, axis=0) / math.sqrt(n_rep)\n",
    "    t = np.arange(T)\n",
    "    plt.plot(t, mean_regret, label=alg_name)\n",
    "    plt.fill_between(\n",
    "        t, mean_regret - 2 * std_regret, mean_regret + 2 * std_regret, alpha=0.15\n",
    "    )\n",
    "plt.legend()"
   ]
  }
 ],
 "metadata": {
  "colab": {
   "collapsed_sections": [],
   "name": "MVARL19_part3.ipynb",
   "private_outputs": true,
   "provenance": []
  },
  "kernelspec": {
   "display_name": "Python 3",
   "language": "python",
   "name": "python3"
  },
  "language_info": {
   "codemirror_mode": {
    "name": "ipython",
    "version": 3
   },
   "file_extension": ".py",
   "mimetype": "text/x-python",
   "name": "python",
   "nbconvert_exporter": "python",
   "pygments_lexer": "ipython3",
   "version": "3.6.8"
  }
 },
 "nbformat": 4,
 "nbformat_minor": 1
}
