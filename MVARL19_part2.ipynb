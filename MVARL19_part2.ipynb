{
 "cells": [
  {
   "cell_type": "markdown",
   "metadata": {
    "colab_type": "text",
    "id": "XJ_s4_nhhiyo"
   },
   "source": [
    "# Reinforcement Learning with Function Approximation"
   ]
  },
  {
   "cell_type": "code",
   "execution_count": 1,
   "metadata": {
    "colab": {},
    "colab_type": "code",
    "id": "WTOWkpoCiLmL",
    "scrolled": true
   },
   "outputs": [],
   "source": [
    "# !pip install torch==1.2.0 torchvision pyvirtualdisplay matplotlib seaborn pandas numpy pathlib gym\n",
    "# !sudo apt-get install xvfb\n",
    "# !git clone https://github.com/rlgammazero/mvarl_hands_on.git > /dev/null 2>&1\n",
    "# !cd mvarl_hands_on && git pull origin master > /dev/null 2>&1"
   ]
  },
  {
   "cell_type": "code",
   "execution_count": 10,
   "metadata": {
    "colab": {},
    "colab_type": "code",
    "id": "gCsyvh4NhjUc"
   },
   "outputs": [],
   "source": [
    "import torch\n",
    "import torch.nn as nn\n",
    "import torch.nn.functional as F \n",
    "from torch import optim\n",
    "\n",
    "import pandas as pd\n",
    "import math\n",
    "import numpy as np\n",
    "import seaborn as sns\n",
    "\n",
    "import gym\n",
    "import itertools\n",
    "import pathlib\n",
    "import base64\n",
    "from gym.wrappers import Monitor\n",
    "from pprint import pprint\n",
    "from pyvirtualdisplay import Display\n",
    "from IPython import display as ipythondisplay\n",
    "from IPython.display import clear_output\n",
    "\n",
    "# The following code is will be used to visualize the environments.\n",
    "\n",
    "def show_video(directory):\n",
    "    html = []\n",
    "    for mp4 in pathlib.Path(directory).glob(\"*.mp4\"):\n",
    "        video_b64 = base64.b64encode(mp4.read_bytes())\n",
    "        html.append('''<video alt=\"{}\" autoplay \n",
    "                      loop controls style=\"height: 400px;\">\n",
    "                      <source src=\"data:video/mp4;base64,{}\" type=\"video/mp4\" />\n",
    "                 </video>'''.format(mp4, video_b64.decode('ascii')))\n",
    "    ipythondisplay.display(ipythondisplay.HTML(data=\"<br>\".join(html)))\n",
    "    \n",
    "display = Display(visible=0, size=(1400, 900))\n",
    "display.start();pathlib\n",
    "\n",
    "def make_seed(seed):\n",
    "    np.random.seed(seed=seed)\n",
    "    torch.manual_seed(seed=seed)"
   ]
  },
  {
   "cell_type": "markdown",
   "metadata": {
    "colab_type": "text",
    "id": "ThnSNaSMhnXa"
   },
   "source": [
    "PyTorch is a Python package that provides two high-level features:\n",
    "- Tensor computation (like NumPy) with strong GPU acceleration\n",
    "- Deep neural networks built on a tape-based autograd system\n",
    "\n",
    "At a granular level, PyTorch is a library that consists of the following components:\n",
    "\n",
    "| Component | Description |\n",
    "| ---- | --- |\n",
    "| [**torch**](https://pytorch.org/docs/stable/torch.html) | a Tensor library like NumPy, with strong GPU support |\n",
    "| [**torch.autograd**](https://pytorch.org/docs/stable/autograd.html) | a tape-based automatic differentiation library that supports all differentiable Tensor operations in torch |\n",
    "| [**torch.jit**](https://pytorch.org/docs/stable/jit.html) | a compilation stack (TorchScript) to create serializable and optimizable models from PyTorch code  |\n",
    "| [**torch.nn**](https://pytorch.org/docs/stable/nn.html) | a neural networks library deeply integrated with autograd designed for maximum flexibility |\n",
    "| [**torch.multiprocessing**](https://pytorch.org/docs/stable/multiprocessing.html) | Python multiprocessing, but with magical memory sharing of torch Tensors across processes. Useful for data loading and Hogwild training |\n",
    "| [**torch.utils**](https://pytorch.org/docs/stable/data.html) | DataLoader and other utility functions for convenience |\n",
    "\n",
    "\n",
    "**Tutorials on PyTorch:** https://pytorch.org/tutorials/\n"
   ]
  },
  {
   "cell_type": "markdown",
   "metadata": {
    "colab_type": "text",
    "id": "WlZQl9TjhuWY"
   },
   "source": [
    "## OpenAI gym\n",
    "We will consider environments provided by OpenAI gym\n",
    "This library provides a large number of environments to test RL algorithm.\n",
    "\n",
    "We will focus on the **CartPole-v1** environment in this lab but we encourage you to also test your code on:\n",
    "* **Acrobot-v1**\n",
    "* **MountainCar-v0**\n",
    "\n",
    "| Env Info          \t| CartPole-v1 \t| Acrobot-v1                \t| MountainCar-v0 \t|\n",
    "|-------------------\t|-------------\t|---------------------------\t|----------------\t|\n",
    "| **Observation Space** \t| Box(4)      \t| Box(6)                    \t| Box(2)         \t|\n",
    "| **Action Space**      \t| Discrete(2) \t| Discrete(3)               \t| Discrete(3)    \t|\n",
    "| **Rewards**           \t| 1 per step  \t| -1 if not terminal else 0 \t| -1 per step    \t|\n",
    "\n",
    "A gym environment is loaded with the command `env = gym.make(env_id)`. Once the environment is created, you need to reset it with `observation = env.reset()` and then you can interact with it using the method step: `observation, reward, done, info = env.step(action)`."
   ]
  },
  {
   "cell_type": "code",
   "execution_count": 11,
   "metadata": {
    "colab": {},
    "colab_type": "code",
    "id": "3wfHvW9Hh4H3"
   },
   "outputs": [],
   "source": [
    "# We load CartPole-v1\n",
    "env = gym.make('CartPole-v1')\n",
    "# We wrap it in order to save our experiment on a file.\n",
    "env = Monitor(env, \"./gym-results\", force=True)"
   ]
  },
  {
   "cell_type": "code",
   "execution_count": 12,
   "metadata": {
    "colab": {},
    "colab_type": "code",
    "id": "2-fFj5sDiA0C"
   },
   "outputs": [
    {
     "data": {
      "text/html": [
       "<video alt=\"gym-results/openaigym.video.2.14193.video000000.mp4\" autoplay \n",
       "                      loop controls style=\"height: 400px;\">\n",
       "                      <source src=\"data:video/mp4;base64,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\" type=\"video/mp4\" />\n",
       "                 </video>"
      ],
      "text/plain": [
       "<IPython.core.display.HTML object>"
      ]
     },
     "metadata": {},
     "output_type": "display_data"
    }
   ],
   "source": [
    "done = False\n",
    "obs = env.reset()\n",
    "while not done:\n",
    "    action = env.action_space.sample()\n",
    "    obs, reward, done, info = env.step(action)\n",
    "env.close()\n",
    "show_video(\"./gym-results\")"
   ]
  },
  {
   "cell_type": "markdown",
   "metadata": {
    "colab_type": "text",
    "id": "sd2xLlapilZE"
   },
   "source": [
    "## REINFORCE\n",
    "\n",
    "**Q1: Implement the REINFORCE algorithm**\n",
    "\n",
    "The code is splitted in two parts:\n",
    "* The Model class defines the architecture of our neural network which takes as input the current state and returns the policy,\n",
    "* The Agent class is responsible for the training and evaluation procedure. You will need to code the method `optimize_model`."
   ]
  },
  {
   "cell_type": "code",
   "execution_count": 13,
   "metadata": {
    "colab": {},
    "colab_type": "code",
    "id": "iwsQ8NSPiCz7"
   },
   "outputs": [],
   "source": [
    "class Model(nn.Module):\n",
    "    def __init__(self, dim_observation, n_actions):\n",
    "        super(Model, self).__init__()\n",
    "        \n",
    "        self.n_actions = n_actions\n",
    "        self.dim_observation = dim_observation\n",
    "        \n",
    "        self.net = nn.Sequential(\n",
    "            nn.Linear(in_features=self.dim_observation, out_features=16),\n",
    "            nn.ReLU(),\n",
    "            nn.Linear(in_features=16, out_features=8),\n",
    "            nn.ReLU(),\n",
    "            nn.Linear(in_features=8, out_features=self.n_actions),\n",
    "            nn.Softmax(dim=0)\n",
    "        )\n",
    "        \n",
    "    def forward(self, state):\n",
    "        return self.net(state)\n",
    "    \n",
    "    def select_action(self, state):\n",
    "        action = torch.multinomial(self.forward(state), 1)\n",
    "        return action"
   ]
  },
  {
   "cell_type": "markdown",
   "metadata": {
    "colab_type": "text",
    "id": "xrgtQMYbiwX7"
   },
   "source": [
    "Create the model based on the properties of the MDP you want to solve"
   ]
  },
  {
   "cell_type": "code",
   "execution_count": 14,
   "metadata": {
    "colab": {},
    "colab_type": "code",
    "id": "S6ieL_KJirq9"
   },
   "outputs": [
    {
     "name": "stdout",
     "output_type": "stream",
     "text": [
      "The model we created correspond to:\n",
      "Model(\n",
      "  (net): Sequential(\n",
      "    (0): Linear(in_features=4, out_features=16, bias=True)\n",
      "    (1): ReLU()\n",
      "    (2): Linear(in_features=16, out_features=8, bias=True)\n",
      "    (3): ReLU()\n",
      "    (4): Linear(in_features=8, out_features=2, bias=True)\n",
      "    (5): Softmax(dim=0)\n",
      "  )\n",
      ")\n"
     ]
    }
   ],
   "source": [
    "env_id = 'CartPole-v1'\n",
    "env = gym.make(env_id)\n",
    "model = Model(env.observation_space.shape[0], env.action_space.n)\n",
    "print(f'The model we created correspond to:\\n{model}')"
   ]
  },
  {
   "cell_type": "markdown",
   "metadata": {
    "colab_type": "text",
    "id": "WwrVF9kti1e-"
   },
   "source": [
    "We provide a base agent that you will need to extend in the next cell with your implementation of `optimize_model`."
   ]
  },
  {
   "cell_type": "code",
   "execution_count": 15,
   "metadata": {
    "colab": {},
    "colab_type": "code",
    "id": "DWvKO66ii1zh"
   },
   "outputs": [],
   "source": [
    "class BaseAgent:\n",
    "    \n",
    "    def __init__(self, config):\n",
    "        self.config = config\n",
    "        self.env = gym.make(config['env_id'])\n",
    "        make_seed(config['seed'])\n",
    "        self.env.seed(config['seed'])\n",
    "        self.model = Model(self.env.observation_space.shape[0], self.env.action_space.n)\n",
    "        self.gamma = config['gamma']\n",
    "        \n",
    "        # the optimizer used by PyTorch (Stochastic Gradient, Adagrad, Adam, etc.)\n",
    "        self.optimizer = torch.optim.Adam(self.model.net.parameters(), lr=config['learning_rate'])\n",
    "        self.monitor_env = Monitor(env, \"./gym-results\", force=True, video_callable=lambda episode: True)\n",
    "    \n",
    "    # Method to implement\n",
    "    def _compute_returns(self, rewards):\n",
    "        \"\"\"Returns the cumulative discounted rewards at each time step\n",
    "\n",
    "        Parameters\n",
    "        ----------\n",
    "        rewards : array\n",
    "            The array of rewards of one episode\n",
    "\n",
    "        Returns\n",
    "        -------\n",
    "        array\n",
    "            The cumulative discounted rewards at each time step\n",
    "            \n",
    "        Example\n",
    "        -------\n",
    "        for rewards=[1, 2, 3] this method outputs [1 + 2 * gamma + 3 * gamma**2, 2 + 3 * gamma, 3] \n",
    "        \"\"\"\n",
    "        raise NotImplementedError\n",
    "    \n",
    "    # Method to implement\n",
    "    def optimize_model(self, n_trajectories):\n",
    "        \"\"\"Perform a gradient update using n_trajectories\n",
    "\n",
    "        Parameters\n",
    "        ----------\n",
    "        n_trajectories : int\n",
    "            The number of trajectories used to approximate the expectation card(D) in the formula above\n",
    "        \n",
    "        Returns\n",
    "        -------\n",
    "        array\n",
    "            The cumulative discounted rewards of each trajectory\n",
    "        \"\"\"\n",
    "        raise NotImplementedError\n",
    "\n",
    "    \n",
    "    def train(self, n_trajectories, n_update):\n",
    "        \"\"\"Training method\n",
    "\n",
    "        Parameters\n",
    "        ----------\n",
    "        n_trajectories : int\n",
    "            The number of trajectories used to approximate the expected gradient\n",
    "        n_update : int\n",
    "            The number of gradient updates\n",
    "            \n",
    "        \"\"\"\n",
    "        \n",
    "        rewards = []\n",
    "        for episode in range(n_update):\n",
    "            rewards.append(self.optimize_model(n_trajectories))\n",
    "            print(f'Episode {episode + 1}/{n_update}: rewards {round(rewards[-1].mean(), 2)} +/- {round(rewards[-1].std(), 2)}')\n",
    "        \n",
    "        # Plotting\n",
    "        r = pd.DataFrame((itertools.chain(*(itertools.product([i], rewards[i]) for i in range(len(rewards))))), columns=['Epoch', 'Reward'])\n",
    "        sns.lineplot(x=\"Epoch\", y=\"Reward\", data=r, ci='sd');\n",
    "        \n",
    "    def evaluate(self, render=False):\n",
    "        \"\"\"Evaluate the agent on a single trajectory            \n",
    "        \"\"\"\n",
    "        with torch.no_grad():\n",
    "            observation = self.monitor_env.reset()\n",
    "            observation = torch.tensor(observation, dtype=torch.float)\n",
    "            reward_episode = 0\n",
    "            done = False\n",
    "                \n",
    "            while not done:\n",
    "                action = self.model.select_action(observation)\n",
    "                observation, reward, done, info = self.monitor_env.step(int(action))\n",
    "                observation = torch.tensor(observation, dtype=torch.float)\n",
    "                reward_episode += reward\n",
    "            \n",
    "            self.monitor_env.close()\n",
    "            if render:\n",
    "                show_video(\"./gym-results\")\n",
    "                print(f'Reward: {reward_episode}')\n",
    "            print(f'Reward: {reward_episode}')"
   ]
  },
  {
   "cell_type": "markdown",
   "metadata": {
    "colab_type": "text",
    "id": "Y6mhw_A3i_8R"
   },
   "source": [
    "Finally you can implement your agent"
   ]
  },
  {
   "cell_type": "code",
   "execution_count": 16,
   "metadata": {
    "colab": {},
    "colab_type": "code",
    "id": "lbjP-7WHi9oc"
   },
   "outputs": [],
   "source": [
    "class REINFORCE(BaseAgent):\n",
    "    def _compute_returns(self, rewards):\n",
    "        n = len(rewards)\n",
    "        cumul_rewards = [\n",
    "            sum([\n",
    "                rewards[j] * self.gamma ** (j - i) for j in range(i, n) \n",
    "            ]) for i in range(n)\n",
    "        ]\n",
    "        \n",
    "        return cumul_rewards\n",
    "    \n",
    "    def optimize_model(self, n_trajectories):\n",
    "        reward_trajectories = []\n",
    "        loss = 0.0\n",
    "        \n",
    "        for i in range(n_trajectories):\n",
    "            rewards, actions, states = [], [], []\n",
    "            done = False\n",
    "            state = self.env.reset()\n",
    "            state = torch.tensor(state, dtype=torch.float)\n",
    "            \n",
    "            # Compute a trajectory\n",
    "            while not done:\n",
    "                action = self.model.select_action(state).item()\n",
    "                next_state, reward, done, _ = self.env.step(action)\n",
    "                \n",
    "                rewards.append(reward)\n",
    "                actions.append(action)\n",
    "                states.append(state)\n",
    "\n",
    "                state = torch.tensor(next_state, dtype=torch.float)\n",
    "            \n",
    "            cumul_rewards = self._compute_returns(rewards)\n",
    "            reward_trajectories.append(cumul_rewards[0])\n",
    "            \n",
    "            loss += np.sum([\n",
    "                cumul_rewards[t] * torch.log(self.model.forward(states[t])[actions[t]\n",
    "            ]) for t in range(len(states))])\n",
    "            \n",
    "        loss /= - n_trajectories\n",
    "        \n",
    "        # Discard previous gradients\n",
    "        self.optimizer.zero_grad()\n",
    "        # Compute the gradient \n",
    "        loss.backward()\n",
    "        # Do the gradient descent step\n",
    "        self.optimizer.step()\n",
    "        \n",
    "        return np.array(reward_trajectories)\n",
    "    "
   ]
  },
  {
   "cell_type": "code",
   "execution_count": 17,
   "metadata": {
    "colab": {},
    "colab_type": "code",
    "id": "vZAo0K8VjCYj"
   },
   "outputs": [
    {
     "name": "stdout",
     "output_type": "stream",
     "text": [
      "Current config is:\n",
      "{'env_id': 'CartPole-v1', 'gamma': 1, 'learning_rate': 0.01, 'seed': 1235}\n"
     ]
    }
   ],
   "source": [
    "env_id = 'CartPole-v1'\n",
    "learning_rate = 0.01\n",
    "gamma = 1\n",
    "seed = 1235\n",
    "\n",
    "config = {\n",
    "    'env_id': env_id,\n",
    "    'learning_rate': learning_rate,\n",
    "    'seed': seed,\n",
    "    'gamma': gamma\n",
    "}\n",
    "\n",
    "print(\"Current config is:\")\n",
    "pprint(config)\n"
   ]
  },
  {
   "cell_type": "code",
   "execution_count": 27,
   "metadata": {
    "colab": {},
    "colab_type": "code",
    "id": "D4Ag7E3qjJas"
   },
   "outputs": [
    {
     "name": "stdout",
     "output_type": "stream",
     "text": [
      "Episode 1/50: rewards 16.9 +/- 6.2\n",
      "Episode 2/50: rewards 22.48 +/- 9.21\n",
      "Episode 3/50: rewards 22.7 +/- 11.96\n",
      "Episode 4/50: rewards 23.44 +/- 11.93\n",
      "Episode 5/50: rewards 23.22 +/- 10.76\n",
      "Episode 6/50: rewards 23.94 +/- 11.23\n",
      "Episode 7/50: rewards 24.26 +/- 12.03\n",
      "Episode 8/50: rewards 25.64 +/- 14.97\n",
      "Episode 9/50: rewards 25.28 +/- 16.45\n",
      "Episode 10/50: rewards 28.86 +/- 17.01\n",
      "Episode 11/50: rewards 24.1 +/- 13.8\n",
      "Episode 12/50: rewards 32.84 +/- 19.68\n",
      "Episode 13/50: rewards 32.58 +/- 15.62\n",
      "Episode 14/50: rewards 27.54 +/- 15.25\n",
      "Episode 15/50: rewards 34.42 +/- 16.96\n",
      "Episode 16/50: rewards 39.12 +/- 21.17\n",
      "Episode 17/50: rewards 34.34 +/- 18.91\n",
      "Episode 18/50: rewards 36.7 +/- 19.33\n",
      "Episode 19/50: rewards 34.42 +/- 24.69\n",
      "Episode 20/50: rewards 36.5 +/- 20.19\n",
      "Episode 21/50: rewards 43.3 +/- 21.38\n",
      "Episode 22/50: rewards 45.04 +/- 19.35\n",
      "Episode 23/50: rewards 42.98 +/- 22.19\n",
      "Episode 24/50: rewards 48.56 +/- 28.32\n",
      "Episode 25/50: rewards 48.58 +/- 25.65\n",
      "Episode 26/50: rewards 55.1 +/- 31.98\n",
      "Episode 27/50: rewards 58.4 +/- 42.99\n",
      "Episode 28/50: rewards 56.8 +/- 21.67\n",
      "Episode 29/50: rewards 58.36 +/- 25.86\n",
      "Episode 30/50: rewards 71.72 +/- 45.17\n",
      "Episode 31/50: rewards 63.12 +/- 26.54\n",
      "Episode 32/50: rewards 74.18 +/- 33.06\n",
      "Episode 33/50: rewards 91.2 +/- 35.47\n",
      "Episode 34/50: rewards 88.46 +/- 37.87\n",
      "Episode 35/50: rewards 95.94 +/- 43.58\n",
      "Episode 36/50: rewards 100.62 +/- 40.26\n",
      "Episode 37/50: rewards 117.28 +/- 46.62\n",
      "Episode 38/50: rewards 121.1 +/- 45.93\n",
      "Episode 39/50: rewards 125.84 +/- 41.61\n",
      "Episode 40/50: rewards 137.02 +/- 32.32\n",
      "Episode 41/50: rewards 132.96 +/- 36.95\n",
      "Episode 42/50: rewards 131.22 +/- 34.25\n",
      "Episode 43/50: rewards 137.74 +/- 30.83\n",
      "Episode 44/50: rewards 159.16 +/- 45.09\n",
      "Episode 45/50: rewards 169.86 +/- 57.49\n",
      "Episode 46/50: rewards 192.5 +/- 69.17\n",
      "Episode 47/50: rewards 199.98 +/- 78.09\n",
      "Episode 48/50: rewards 226.84 +/- 71.61\n",
      "Episode 49/50: rewards 242.74 +/- 87.31\n",
      "Episode 50/50: rewards 256.02 +/- 92.47\n"
     ]
    },
    {
     "data": {
      "image/png": "[encoded data removed]",
      "text/plain": [
       "<Figure size 432x288 with 1 Axes>"
      ]
     },
     "metadata": {
      "needs_background": "light"
     },
     "output_type": "display_data"
    }
   ],
   "source": [
    "agent = REINFORCE(config)\n",
    "agent.train(n_trajectories=50, n_update=50)"
   ]
  },
  {
   "cell_type": "markdown",
   "metadata": {
    "colab_type": "text",
    "id": "q3_dvBl8jUc3"
   },
   "source": [
    "Evaluate the agent over multiple episodes"
   ]
  },
  {
   "cell_type": "code",
   "execution_count": 37,
   "metadata": {
    "colab": {},
    "colab_type": "code",
    "id": "aPyqbIiCjO_-"
   },
   "outputs": [
    {
     "data": {
      "text/html": [
       "<video alt=\"gym-results/openaigym.video.3.7275.video000000.mp4\" autoplay \n",
       "                      loop controls style=\"height: 400px;\">\n",
       "                      <source src=\"data:video/mp4;base64,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\" type=\"video/mp4\" />\n",
       "                 </video>"
      ],
      "text/plain": [
       "<IPython.core.display.HTML object>"
      ]
     },
     "metadata": {},
     "output_type": "display_data"
    },
    {
     "name": "stdout",
     "output_type": "stream",
     "text": [
      "Reward: 500.0\n",
      "Reward: 500.0\n"
     ]
    }
   ],
   "source": [
    "agent.evaluate(render=True)"
   ]
  },
  {
   "cell_type": "markdown",
   "metadata": {
    "colab_type": "text",
    "id": "LHM2_CRFkNoA"
   },
   "source": [
    "## Policy Evaluation as Supervised Learning\n",
    "\n",
    "**Q2: Implement batched gradient algorithm**\n",
    "\n",
    "Define network for Q-function (ValueNetwork) and policy (ActorNetwork)\n"
   ]
  },
  {
   "cell_type": "code",
   "execution_count": 5,
   "metadata": {
    "colab": {},
    "colab_type": "code",
    "id": "W9sxcz_eKF1M"
   },
   "outputs": [],
   "source": [
    "class ValueNetwork(nn.Module):\n",
    "\n",
    "    def __init__(self, input_size, hidden_size, output_size):\n",
    "        super(ValueNetwork, self).__init__()\n",
    "        self.fc1 = nn.Linear(input_size, hidden_size)\n",
    "        self.fc2 = nn.Linear(hidden_size, hidden_size)\n",
    "        self.fc3 = nn.Linear(hidden_size, output_size)\n",
    "\n",
    "    def forward(self, x):\n",
    "        out = F.relu(self.fc1(x))\n",
    "        out = F.relu(self.fc2(out))\n",
    "        out = self.fc3(out)\n",
    "        return out\n",
    "    \n",
    "    def predict(self, x):\n",
    "        return self(x).detach().numpy()[0]"
   ]
  },
  {
   "cell_type": "code",
   "execution_count": 6,
   "metadata": {
    "colab": {},
    "colab_type": "code",
    "id": "1GKxKzs5khxM"
   },
   "outputs": [],
   "source": [
    "class ActorNetwork(nn.Module):\n",
    "\n",
    "    def __init__(self, input_size, hidden_size, action_size):\n",
    "        super(ActorNetwork, self).__init__()\n",
    "        self.fc1 = nn.Linear(input_size, hidden_size)\n",
    "        self.fc2 = nn.Linear(hidden_size, hidden_size)\n",
    "        self.fc3 = nn.Linear(hidden_size, action_size)\n",
    "\n",
    "    def forward(self, x):\n",
    "        out = F.relu(self.fc1(x))\n",
    "        out = F.relu(self.fc2(out))\n",
    "        out = F.softmax(self.fc3(out), dim=-1)\n",
    "        return out\n",
    "    \n",
    "    def select_action(self, x):\n",
    "        return torch.multinomial(self(x), 1).detach().numpy()"
   ]
  },
  {
   "cell_type": "markdown",
   "metadata": {
    "colab_type": "text",
    "id": "aBpNVkaAKLQz"
   },
   "source": [
    "Implement your (batched) gradient algorithm\n",
    "\n"
   ]
  },
  {
   "cell_type": "code",
   "execution_count": 69,
   "metadata": {
    "colab": {},
    "colab_type": "code",
    "id": "QQ4Wu5B5KIIO"
   },
   "outputs": [],
   "source": [
    "class EvalAgent:\n",
    "\n",
    "    def __init__(self, config, policy):\n",
    "        self.config = config\n",
    "        self.env = gym.make(config['env_id'])\n",
    "        make_seed(config['seed'])\n",
    "        self.env.seed(config['seed'])\n",
    "        self.monitor_env = Monitor(self.env, \"./gym-results\", force=True, video_callable=lambda episode: True)\n",
    "        self.gamma = config['gamma']\n",
    "        self.policy = policy\n",
    "\n",
    "        # Our network\n",
    "        self.value_network = ValueNetwork(self.env.observation_space.shape[0], 16, 1)\n",
    "\n",
    "        # optimizers\n",
    "        self.value_network_optimizer = optim.RMSprop(self.value_network.parameters(), \n",
    "                                                   lr=config['value_network']['learning_rate'])\n",
    "    \n",
    "    def _returns_advantages(self, rewards, dones, next_value):\n",
    "        \"\"\"Returns the cumulative discounted rewards at each time step\n",
    "\n",
    "        Parameters\n",
    "        ----------\n",
    "        rewards : array\n",
    "            An array of shape (batch_size,) containing the rewards given by the env\n",
    "        dones : array\n",
    "            An array of shape (batch_size,) containing the done bool indicator given by the env\n",
    "        next_value : float\n",
    "            The value of the next state given by the value network\n",
    "\n",
    "        Returns\n",
    "        -------\n",
    "        returns : array\n",
    "            The cumulative discounted rewards\n",
    "        \"\"\"\n",
    "        \n",
    "        def _sub_returns_advantages(sub_rewards):\n",
    "            N = len(sub_rewards)\n",
    "            sub_cumul_rewards = [\n",
    "                sum([\n",
    "                    sub_rewards[j] * self.gamma ** (j - i) for j in range(i, N) \n",
    "                ]) for i in range(N)\n",
    "            ]\n",
    "            return sub_cumul_rewards\n",
    "        \n",
    "        n = len(dones)\n",
    "        \n",
    "        args_done = np.argwhere(dones).flatten()\n",
    "        cumul_rewards = []\n",
    "        ind = 0\n",
    "        \n",
    "        for i in args_done:\n",
    "            cumul_rewards += _sub_returns_advantages(rewards[ind: i])\n",
    "            ind = i\n",
    "        \n",
    "        if not dones[-1]:\n",
    "            last_done_ind = 0 if len(args_done) == 0 else args_done[-1]\n",
    "            cumul_rewards += _sub_returns_advantages(list(rewards[last_done_ind:]) + [next_value])[:-1]\n",
    "        else:\n",
    "            cumul_rewards += [rewards[-1]]\n",
    "            \n",
    "        \n",
    "        cumul_rewards = np.array(cumul_rewards)\n",
    "        \n",
    "        return cumul_rewards\n",
    "    \n",
    "    \n",
    "    def optimize_model(self, observations, returns):\n",
    "        \"\"\"Perform a gradient update using provided transitions\n",
    "\n",
    "        Parameters\n",
    "        ----------\n",
    "        observations : array\n",
    "            The observations\n",
    "        actions : array\n",
    "            The actions\n",
    "        returns : array\n",
    "            The returns from each state\n",
    "\n",
    "        Returns\n",
    "        -------\n",
    "        loss_value: int\n",
    "            The loss value\n",
    "        \"\"\"\n",
    "        \n",
    "        returns = torch.tensor(returns[:, None], dtype=torch.float)\n",
    "        observations = torch.tensor(observations, dtype=torch.float)\n",
    "        \n",
    "        criterion = nn.MSELoss(reduction='mean')\n",
    "        loss = criterion(self.value_network(observations), returns)\n",
    "        \n",
    "        # Discard previous gradients\n",
    "        self.value_network_optimizer.zero_grad()\n",
    "        \n",
    "        # Compute the gradient \n",
    "        loss.backward()\n",
    "        \n",
    "        # Do the gradient descent step\n",
    "        self.value_network_optimizer.step()\n",
    "        \n",
    "    \n",
    "    def training_batch(self, epochs, batch_size):\n",
    "        \"\"\"Perform a training by batch\n",
    "\n",
    "        Parameters\n",
    "        ----------\n",
    "        epochs : int\n",
    "            Number of epochs\n",
    "        batch_size : int\n",
    "            The size of a batch\n",
    "        \"\"\"\n",
    "        episode_count = 0\n",
    "        actions = np.empty((batch_size,), dtype=np.int)\n",
    "        dones = np.empty((batch_size,), dtype=np.bool)\n",
    "        rewards, values = np.empty((2, batch_size), dtype=np.float)\n",
    "        observations = np.empty((batch_size,) + self.env.observation_space.shape, dtype=np.float)\n",
    "        observation = self.env.reset()\n",
    "        mse_test = []\n",
    "\n",
    "        for epoch in range(epochs):\n",
    "            # Lets collect one batch\n",
    "            for i in range(batch_size): \n",
    "                observation = torch.tensor(observation, dtype=torch.float)\n",
    "                action = self.policy.select_action(observation).item()\n",
    "                \n",
    "                next_observation, reward, done, _ = self.env.step(action)\n",
    "                \n",
    "                observations[i] = observation.numpy()\n",
    "                rewards[i] = reward\n",
    "                actions[i] = action\n",
    "                dones[i] = done\n",
    "\n",
    "                if dones[i]:\n",
    "                    observation = self.env.reset()\n",
    "                else:\n",
    "                    observation = next_observation\n",
    "                    \n",
    "\n",
    "            # If our episode didn't end on the last step we need to compute the value for the last state\n",
    "            if dones[-1]:\n",
    "                next_value = 0\n",
    "            else:\n",
    "                next_value = self.value_network(torch.tensor(next_observation, dtype=torch.float)).item()\n",
    "           \n",
    "            # Update episode_count\n",
    "            episode_count += sum(dones)\n",
    "\n",
    "            # Compute returns\n",
    "            returns = self._returns_advantages(rewards, dones, next_value)\n",
    "\n",
    "            # Learning step !\n",
    "            self.optimize_model(observations, returns)\n",
    "\n",
    "            # Test it every 50 epochs\n",
    "            if epoch % 25 == 0 or epoch == epochs - 1:\n",
    "                L = []\n",
    "                for _ in range(10):\n",
    "                    obs_states, y_mc = self.evaluate()\n",
    "                    y_hat = self.value_network(torch.tensor(obs_states, dtype=torch.float)).detach().numpy()\n",
    "                    err = y_mc - y_hat\n",
    "                    mse = np.mean(err**2)\n",
    "                    L.append(mse.item())\n",
    "                mse_test.append(L)\n",
    "                print(f'Epoch {epoch}/{epochs}: MSE: {np.mean(mse)}')\n",
    "\n",
    "                observation = self.env.reset()\n",
    "\n",
    "        # Plotting\n",
    "        r = pd.DataFrame((itertools.chain(*(itertools.product([i], mse_test[i]) for i in range(len(mse_test))))), columns=['Epoch', 'MSE'])\n",
    "        sns.lineplot(x=\"Epoch\", y=\"MSE\", data=r, ci='sd');\n",
    "\n",
    "        print(f'The trainnig was done over a total of {episode_count} episodes')\n",
    "\n",
    "    def evaluate(self, render=False):\n",
    "        \"\"\"Returns the observations and the estimated V-function (using first visit Monte-Carlo)\n",
    "\n",
    "        Parameters\n",
    "        ----------\n",
    "        rewards : array\n",
    "            An array of shape (batch_size,) containing the rewards given by the env\n",
    "        dones : array\n",
    "            An array of shape (batch_size,) containing the done bool indicator given by the env\n",
    "        values : array\n",
    "            An array of shape (batch_size,) containing the values given by the value network\n",
    "        next_value : float\n",
    "            The value of the next state given by the value network\n",
    "\n",
    "        Returns\n",
    "        -------\n",
    "        states : array\n",
    "            Observations\n",
    "        returns : array\n",
    "            The estimate value function of each state\n",
    "        \"\"\"\n",
    "        env = self.monitor_env if render else self.env\n",
    "        observation = env.reset()\n",
    "        states = [observation.copy()]\n",
    "        rewards= []\n",
    "        reward_episode = 0\n",
    "        observation = torch.tensor(observation, dtype=torch.float)\n",
    "        done = False\n",
    "        steps = 0\n",
    "\n",
    "        while not done:\n",
    "            action = self.policy.select_action(observation).item()\n",
    "            observation, reward, done, info = env.step(int(action))\n",
    "            for i in range(steps):\n",
    "                rewards[i] = rewards[i] + math.pow(self.gamma, steps-i)*reward\n",
    "            rewards.append(reward)\n",
    "            if not done:\n",
    "                states.append(observation.copy())\n",
    "            observation = torch.tensor(observation, dtype=torch.float)\n",
    "            steps += 1\n",
    "            reward_episode += reward\n",
    "\n",
    "        env.close()\n",
    "        if render:\n",
    "            show_video(\"./gym-results\")\n",
    "            print(f'Reward: {reward_episode}')\n",
    "        states = np.array(states).reshape(-1, self.env.observation_space.shape[0])\n",
    "        returns = np.array(rewards).reshape(-1,1)\n",
    "        return states, returns"
   ]
  },
  {
   "cell_type": "markdown",
   "metadata": {
    "colab_type": "text",
    "id": "IY1VIUHLNKn3"
   },
   "source": [
    "Define configuration"
   ]
  },
  {
   "cell_type": "code",
   "execution_count": 70,
   "metadata": {
    "colab": {},
    "colab_type": "code",
    "id": "Fvc-7jXDNNkG"
   },
   "outputs": [
    {
     "name": "stdout",
     "output_type": "stream",
     "text": [
      "Current config_td is:\n",
      "{'env_id': 'CartPole-v1', 'gamma': 0.99, 'seed': 1, 'value_network': {'learning_rate': 0.001, 'reference': './CartPole_value.pt'}}\n"
     ]
    }
   ],
   "source": [
    "env_id = 'CartPole-v1'\n",
    "value_learning_rate = 0.001\n",
    "gamma = 0.99\n",
    "seed = 1\n",
    "\n",
    "config_td = {\n",
    "    'env_id': env_id,\n",
    "    'gamma': gamma,\n",
    "    'seed': seed,\n",
    "    'value_network': {'learning_rate': value_learning_rate, 'reference': './CartPole_value.pt'}\n",
    "}\n",
    "\n",
    "print(\"Current config_td is:\")\n",
    "print(config_td)\n"
   ]
  },
  {
   "cell_type": "markdown",
   "metadata": {
    "colab_type": "text",
    "id": "d2lRnaF3NPyy"
   },
   "source": [
    "Create policy"
   ]
  },
  {
   "cell_type": "code",
   "execution_count": 71,
   "metadata": {
    "colab": {},
    "colab_type": "code",
    "id": "NkbHK_lXNShg"
   },
   "outputs": [
    {
     "name": "stdout",
     "output_type": "stream",
     "text": [
      "pi(state) =  [1]\n"
     ]
    }
   ],
   "source": [
    "env = gym.make(config_td['env_id'])\n",
    "policy = ActorNetwork(env.observation_space.shape[0], 16, env.action_space.n)\n",
    "policy.load_state_dict(torch.load('./mvarl_hands_on/data/CartPole_actor.pt'))\n",
    "state = torch.tensor(np.array(env.reset(), dtype=np.float32))\n",
    "print(\"pi(state) = \", policy.select_action(state))\n",
    "del env"
   ]
  },
  {
   "cell_type": "markdown",
   "metadata": {
    "colab_type": "text",
    "id": "Y51M4EgtNU7Z"
   },
   "source": [
    "Run agent"
   ]
  },
  {
   "cell_type": "code",
   "execution_count": 72,
   "metadata": {
    "colab": {},
    "colab_type": "code",
    "id": "4PFvnYLnNGvX"
   },
   "outputs": [
    {
     "name": "stdout",
     "output_type": "stream",
     "text": [
      "Epoch 0/1000: MSE: 7040.021234319181\n",
      "Epoch 25/1000: MSE: 6976.818114705156\n",
      "Epoch 50/1000: MSE: 5122.92888531539\n",
      "Epoch 75/1000: MSE: 6696.645444569841\n",
      "Epoch 100/1000: MSE: 6482.24675421769\n",
      "Epoch 125/1000: MSE: 6187.775672268668\n",
      "Epoch 150/1000: MSE: 5808.380915655116\n",
      "Epoch 175/1000: MSE: 5535.72608636093\n",
      "Epoch 200/1000: MSE: 5003.276219619692\n",
      "Epoch 225/1000: MSE: 4751.090989263737\n",
      "Epoch 250/1000: MSE: 4303.86962257949\n",
      "Epoch 275/1000: MSE: 3847.405828059856\n",
      "Epoch 300/1000: MSE: 3491.485674392269\n",
      "Epoch 325/1000: MSE: 3063.251189987014\n",
      "Epoch 350/1000: MSE: 2481.8322208581717\n",
      "Epoch 375/1000: MSE: 2215.5797239626477\n",
      "Epoch 400/1000: MSE: 1835.080769431862\n",
      "Epoch 425/1000: MSE: 1601.822199124884\n",
      "Epoch 450/1000: MSE: 1284.1646512620166\n",
      "Epoch 475/1000: MSE: 1171.125201745547\n",
      "Epoch 500/1000: MSE: 917.7581790451326\n",
      "Epoch 525/1000: MSE: 872.4086844105362\n",
      "Epoch 550/1000: MSE: 889.0840888149422\n",
      "Epoch 575/1000: MSE: 712.7023994084285\n",
      "Epoch 600/1000: MSE: 702.9728154449316\n",
      "Epoch 625/1000: MSE: 697.4558955690381\n",
      "Epoch 650/1000: MSE: 577.7496359457574\n",
      "Epoch 675/1000: MSE: 640.4864088611254\n",
      "Epoch 700/1000: MSE: 561.5548032765429\n",
      "Epoch 725/1000: MSE: 645.5427329773456\n",
      "Epoch 750/1000: MSE: 543.2365409042333\n",
      "Epoch 775/1000: MSE: 625.7633194725703\n",
      "Epoch 800/1000: MSE: 567.0658869643574\n",
      "Epoch 825/1000: MSE: 636.4332587261929\n",
      "Epoch 850/1000: MSE: 801.5398214930611\n",
      "Epoch 875/1000: MSE: 798.0946847185046\n",
      "Epoch 900/1000: MSE: 617.5232540361613\n",
      "Epoch 925/1000: MSE: 624.6981997536153\n",
      "Epoch 950/1000: MSE: 650.0201331916485\n",
      "Epoch 975/1000: MSE: 580.6149547144981\n",
      "Epoch 999/1000: MSE: 566.9844534765068\n",
      "The trainnig was done over a total of 517 episodes\n"
     ]
    },
    {
     "data": {
      "image/png": "[encoded data removed]",
      "text/plain": [
       "<Figure size 432x288 with 1 Axes>"
      ]
     },
     "metadata": {
      "needs_background": "light"
     },
     "output_type": "display_data"
    }
   ],
   "source": [
    "agent = EvalAgent(config=config_td, policy=policy)\n",
    "agent.training_batch(epochs=1000, batch_size=256)"
   ]
  },
  {
   "cell_type": "code",
   "execution_count": 68,
   "metadata": {
    "scrolled": false
   },
   "outputs": [
    {
     "data": {
      "text/html": [
       "<video alt=\"gym-results/openaigym.video.13.11201.video000000.mp4\" autoplay \n",
       "                      loop controls style=\"height: 400px;\">\n",
       "                      <source src=\"data:video/mp4;base64,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\" type=\"video/mp4\" />\n",
       "                 </video>"
      ],
      "text/plain": [
       "<IPython.core.display.HTML object>"
      ]
     },
     "metadata": {},
     "output_type": "display_data"
    },
    {
     "name": "stdout",
     "output_type": "stream",
     "text": [
      "Reward: 500.0\n"
     ]
    }
   ],
   "source": [
    "s = agent.evaluate(render=True)"
   ]
  },
  {
   "cell_type": "markdown",
   "metadata": {
    "colab_type": "text",
    "id": "03as0wkuja2A"
   },
   "source": [
    "## Advantage Actor Critic (A2C)\n",
    "**Q3: Implement the A2C method**\n",
    "\n",
    "As usual we provide a structure you can use as starting point.\n",
    "\n",
    "\n",
    "\n",
    "**Note:** try to reuse previous parts of previous code.\n",
    "\n"
   ]
  },
  {
   "cell_type": "code",
   "execution_count": 4,
   "metadata": {
    "colab": {},
    "colab_type": "code",
    "id": "G4EmYpAsjhKh"
   },
   "outputs": [],
   "source": [
    "class A2CAgent:\n",
    "\n",
    "    def __init__(self, config):\n",
    "        self.config = config\n",
    "        self.env = gym.make(config['env_id'])\n",
    "        make_seed(config['seed'])\n",
    "        self.env.seed(config['seed'])\n",
    "        self.monitor_env = Monitor(self.env, \"./gym-results\", force=True, video_callable=lambda episode: True)\n",
    "        self.gamma = config['gamma']\n",
    "        \n",
    "        # Our two networks\n",
    "        self.value_network = ValueNetwork(self.env.observation_space.shape[0], 16, 1)\n",
    "        self.actor_network = ActorNetwork(self.env.observation_space.shape[0], 16, self.env.action_space.n)\n",
    "        \n",
    "        # Their optimizers\n",
    "        self.value_network_optimizer = optim.RMSprop(self.value_network.parameters(), lr=config['value_network']['learning_rate'])\n",
    "        self.actor_network_optimizer = optim.RMSprop(self.actor_network.parameters(), lr=config['actor_network']['learning_rate'])\n",
    "        \n",
    "    \n",
    "    def _returns_advantages(self, rewards, dones, values, next_value):\n",
    "        \"\"\"Returns the cumulative discounted rewards at each time step\n",
    "\n",
    "        Parameters\n",
    "        ----------\n",
    "        rewards : array\n",
    "            An array of shape (batch_size,) containing the rewards given by the env\n",
    "        dones : array\n",
    "            An array of shape (batch_size,) containing the done bool indicator given by the env\n",
    "        values : array\n",
    "            An array of shape (batch_size,) containing the values given by the value network\n",
    "        next_value : float\n",
    "            The value of the next state given by the value network\n",
    "        \n",
    "        Returns\n",
    "        -------\n",
    "        returns : array\n",
    "            The cumulative discounted rewards\n",
    "        advantages : array\n",
    "            The advantages\n",
    "        \"\"\"\n",
    "        def _sub_returns_advantages(sub_rewards):\n",
    "            N = len(sub_rewards)\n",
    "            sub_cumul_rewards = [\n",
    "                sum([\n",
    "                    sub_rewards[j] * self.gamma ** (j - i) for j in range(i, N) \n",
    "                ]) for i in range(N)\n",
    "            ]\n",
    "            return sub_cumul_rewards\n",
    "        \n",
    "        n = len(dones)\n",
    "        \n",
    "        args_done = np.argwhere(dones).flatten()\n",
    "        returns = []\n",
    "        ind = 0\n",
    "        \n",
    "        for i in args_done:\n",
    "            returns += _sub_returns_advantages(rewards[ind: i])\n",
    "            ind = i\n",
    "        \n",
    "        if not dones[-1]:\n",
    "            last_done_ind = 0 if len(args_done) == 0 else args_done[-1]\n",
    "            returns += _sub_returns_advantages(list(rewards[last_done_ind:]) + [next_value])[:-1]\n",
    "        else:\n",
    "            returns += [rewards[-1]]\n",
    "            \n",
    "        returns = np.array(returns)\n",
    "        advantages = returns - values\n",
    "        \n",
    "        return returns, advantages\n",
    "\n",
    "\n",
    "    def training_batch(self, epochs, batch_size):\n",
    "        \"\"\"Perform a training by batch\n",
    "\n",
    "        Parameters\n",
    "        ----------\n",
    "        epochs : int\n",
    "            Number of epochs\n",
    "        batch_size : int\n",
    "            The size of a batch\n",
    "        \"\"\"\n",
    "        episode_count = 0\n",
    "        actions = np.empty((batch_size,), dtype=np.int)\n",
    "        dones = np.empty((batch_size,), dtype=np.bool)\n",
    "        rewards, values = np.empty((2, batch_size), dtype=np.float)\n",
    "        observations = np.empty((batch_size,) + self.env.observation_space.shape, dtype=np.float)\n",
    "        observation = self.env.reset()\n",
    "        rewards_test = []\n",
    "\n",
    "        for epoch in range(epochs):\n",
    "            # Lets collect one batch\n",
    "            for i in range(batch_size): \n",
    "                observation = torch.tensor(observation, dtype=torch.float)\n",
    "                action = self.actor_network.select_action(observation).item()\n",
    "                \n",
    "                next_observation, reward, done, _ = self.env.step(action)\n",
    "                \n",
    "                observations[i] = observation.numpy()\n",
    "                rewards[i] = reward\n",
    "                actions[i] = action\n",
    "                dones[i] = done\n",
    "\n",
    "                if dones[i]:\n",
    "                    observation = self.env.reset()\n",
    "                else:\n",
    "                    observation = next_observation\n",
    "            \n",
    "            # Compute values returned by the value network\n",
    "            values = self.value_network(torch.tensor(observations, dtype=torch.float)).detach().numpy().flatten()\n",
    "\n",
    "            # If our episode didn't end on the last step we need to compute the value for the last state\n",
    "            if dones[-1]:\n",
    "                next_value = 0\n",
    "            else:\n",
    "                next_value = self.value_network(torch.tensor(next_observation, dtype=torch.float)).item()\n",
    "           \n",
    "            # Update episode_count\n",
    "            episode_count += sum(dones)\n",
    "\n",
    "            # Compute returns and advantages\n",
    "            returns, advantages = self._returns_advantages(rewards, dones, values, next_value)\n",
    "\n",
    "            # Learning step !\n",
    "            self.optimize_model(observations, actions, returns, advantages, dones)\n",
    "            \n",
    "            # Test it every 50 epochs\n",
    "            if epoch % 50 == 0 or epoch == epochs - 1:\n",
    "                rewards_test.append(np.array([self.evaluate() for _ in range(50)]))\n",
    "                print(f'Epoch {epoch}/{epochs}: Mean rewards: {round(rewards_test[-1].mean(), 2)}, Std: {round(rewards_test[-1].std(), 2)}')\n",
    "\n",
    "                # Early stopping\n",
    "                if rewards_test[-1].mean() > 490 and epoch != epochs -1:\n",
    "                    print('Early stopping !')\n",
    "                    break\n",
    "                observation = self.env.reset()\n",
    "                    \n",
    "        # Plotting\n",
    "        r = pd.DataFrame((itertools.chain(*(itertools.product([i], rewards_test[i]) for i in range(len(rewards_test))))), columns=['Epoch', 'Reward'])\n",
    "        sns.lineplot(x=\"Epoch\", y=\"Reward\", data=r, ci='sd');\n",
    "        \n",
    "        print(f'The training was done over a total of {episode_count} episodes')\n",
    "\n",
    "        \n",
    "    def optimize_model(self, observations, actions, returns, advantages, dones):\n",
    "        returns = torch.tensor(returns[:, None], dtype=torch.float)\n",
    "        advantages = torch.tensor(advantages, dtype=torch.float)\n",
    "        observations = torch.tensor(observations, dtype=torch.float)\n",
    "\n",
    "        # MSE for the values\n",
    "        criterion = nn.MSELoss(reduction='mean')\n",
    "        loss_value = criterion(self.value_network(observations), returns)\n",
    "        \n",
    "        # Discard previous gradients\n",
    "        self.value_network_optimizer.zero_grad()\n",
    "        \n",
    "        # Compute the gradient \n",
    "        loss_value.backward()\n",
    "        \n",
    "        # Do the gradient descent step\n",
    "        self.value_network_optimizer.step()\n",
    "        \n",
    "        # Actor & Entropy loss\n",
    "        n_traj = np.sum(dones)\n",
    "        loss_actor = 0.0\n",
    "        \n",
    "        for i in range(len(dones)):\n",
    "            loss_actor -= torch.log(self.actor_network(observations[i])[actions[i]]) * advantages[i]\n",
    "        loss_actor /= max(1, np.sum(dones))\n",
    "        \n",
    "        # Discard previous gradients\n",
    "        self.actor_network_optimizer.zero_grad()\n",
    "        \n",
    "        # Compute the gradient \n",
    "        loss_actor.backward()\n",
    "        \n",
    "        # Do the gradient descent step\n",
    "        self.actor_network_optimizer.step()\n",
    "        \n",
    "\n",
    "    def evaluate(self, render=False):\n",
    "        env = self.monitor_env if render else self.env\n",
    "        observation = env.reset()\n",
    "        observation = torch.tensor(observation, dtype=torch.float)\n",
    "        reward_episode = 0\n",
    "        done = False\n",
    "\n",
    "        while not done:\n",
    "            policy = self.actor_network(observation)\n",
    "            action = torch.multinomial(policy, 1)\n",
    "            observation, reward, done, info = env.step(int(action))\n",
    "            observation = torch.tensor(observation, dtype=torch.float)\n",
    "            reward_episode += reward\n",
    "            \n",
    "        env.close()\n",
    "        if render:\n",
    "            show_video(\"./gym-results\")\n",
    "            print(f'Reward: {reward_episode}')\n",
    "        return reward_episode"
   ]
  },
  {
   "cell_type": "markdown",
   "metadata": {
    "colab_type": "text",
    "id": "8sEwrInsjkDH"
   },
   "source": [
    "Create configuration for A2C"
   ]
  },
  {
   "cell_type": "code",
   "execution_count": 7,
   "metadata": {
    "colab": {},
    "colab_type": "code",
    "id": "OwDDx78wjmG5"
   },
   "outputs": [
    {
     "name": "stdout",
     "output_type": "stream",
     "text": [
      "Current config_a2c is:\n",
      "{'actor_network': {'learning_rate': 0.001},\n",
      " 'entropy': 1,\n",
      " 'env_id': 'CartPole-v1',\n",
      " 'gamma': 0.99,\n",
      " 'seed': 1,\n",
      " 'value_network': {'learning_rate': 0.001}}\n"
     ]
    }
   ],
   "source": [
    "env_id = 'CartPole-v1'\n",
    "value_learning_rate = 0.001\n",
    "actor_learning_rate = 0.001\n",
    "gamma = 0.99\n",
    "entropy = 1\n",
    "seed = 1\n",
    "\n",
    "config_a2c = {\n",
    "    'env_id': env_id,\n",
    "    'gamma': gamma,\n",
    "    'seed': seed,\n",
    "    'value_network': {'learning_rate': value_learning_rate},\n",
    "    'actor_network': {'learning_rate': actor_learning_rate},\n",
    "    'entropy': entropy\n",
    "}\n",
    "\n",
    "print(\"Current config_a2c is:\")\n",
    "pprint(config_a2c)"
   ]
  },
  {
   "cell_type": "markdown",
   "metadata": {
    "colab_type": "text",
    "id": "6xW7fe-8jvzY"
   },
   "source": [
    "Run the learning agent"
   ]
  },
  {
   "cell_type": "code",
   "execution_count": 8,
   "metadata": {
    "colab": {},
    "colab_type": "code",
    "id": "UrZRJ7-yjryp",
    "scrolled": false
   },
   "outputs": [
    {
     "name": "stdout",
     "output_type": "stream",
     "text": [
      "Epoch 0/1000: Mean rewards: 19.86, Std: 9.84\n",
      "Epoch 50/1000: Mean rewards: 29.72, Std: 14.12\n",
      "Epoch 100/1000: Mean rewards: 48.42, Std: 24.82\n",
      "Epoch 150/1000: Mean rewards: 67.34, Std: 28.24\n",
      "Epoch 200/1000: Mean rewards: 145.76, Std: 91.82\n",
      "Epoch 250/1000: Mean rewards: 183.28, Std: 90.73\n",
      "Epoch 300/1000: Mean rewards: 277.52, Std: 107.43\n",
      "Epoch 350/1000: Mean rewards: 266.76, Std: 107.11\n",
      "Epoch 400/1000: Mean rewards: 323.04, Std: 121.48\n",
      "Epoch 450/1000: Mean rewards: 363.2, Std: 122.31\n",
      "Epoch 500/1000: Mean rewards: 396.46, Std: 118.75\n",
      "Epoch 550/1000: Mean rewards: 413.98, Std: 106.62\n",
      "Epoch 600/1000: Mean rewards: 459.48, Std: 87.05\n",
      "Epoch 650/1000: Mean rewards: 464.78, Std: 80.02\n",
      "Epoch 700/1000: Mean rewards: 439.42, Std: 112.6\n",
      "Epoch 750/1000: Mean rewards: 494.16, Std: 28.23\n",
      "Early stopping !\n",
      "The training was done over a total of 1617 episodes\n"
     ]
    },
    {
     "data": {
      "image/png": "[encoded data removed]",
      "text/plain": [
       "<Figure size 432x288 with 1 Axes>"
      ]
     },
     "metadata": {
      "needs_background": "light"
     },
     "output_type": "display_data"
    }
   ],
   "source": [
    "agent = A2CAgent(config_a2c)\n",
    "rewards = agent.training_batch(1000, 256)"
   ]
  },
  {
   "cell_type": "markdown",
   "metadata": {
    "colab_type": "text",
    "id": "NzuNtPqTju64"
   },
   "source": [
    "Evaluate the agent over multiple episodes"
   ]
  },
  {
   "cell_type": "code",
   "execution_count": 9,
   "metadata": {
    "colab": {},
    "colab_type": "code",
    "id": "bw279M4Jj1y-"
   },
   "outputs": [
    {
     "data": {
      "text/html": [
       "<video alt=\"gym-results/openaigym.video.1.14193.video000000.mp4\" autoplay \n",
       "                      loop controls style=\"height: 400px;\">\n",
       "                      <source src=\"data:video/mp4;base64,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\" type=\"video/mp4\" />\n",
       "                 </video>"
      ],
      "text/plain": [
       "<IPython.core.display.HTML object>"
      ]
     },
     "metadata": {},
     "output_type": "display_data"
    },
    {
     "name": "stdout",
     "output_type": "stream",
     "text": [
      "Reward: 500.0\n"
     ]
    },
    {
     "data": {
      "text/plain": [
       "500.0"
      ]
     },
     "execution_count": 9,
     "metadata": {},
     "output_type": "execute_result"
    }
   ],
   "source": [
    "agent.evaluate(render=True)"
   ]
  }
 ],
 "metadata": {
  "colab": {
   "collapsed_sections": [],
   "name": "MVARL19_part2.ipynb",
   "private_outputs": true,
   "provenance": [],
   "toc_visible": true
  },
  "kernelspec": {
   "display_name": "Python 3",
   "language": "python",
   "name": "python3"
  },
  "language_info": {
   "codemirror_mode": {
    "name": "ipython",
    "version": 3
   },
   "file_extension": ".py",
   "mimetype": "text/x-python",
   "name": "python",
   "nbconvert_exporter": "python",
   "pygments_lexer": "ipython3",
   "version": "3.6.8"
  }
 },
 "nbformat": 4,
 "nbformat_minor": 1
}
